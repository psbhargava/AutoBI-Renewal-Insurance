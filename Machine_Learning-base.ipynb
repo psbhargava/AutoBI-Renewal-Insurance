{
 "cells": [
  {
   "cell_type": "code",
   "execution_count": 1,
   "metadata": {
    "id": "Lv_8ciqcjVhL"
   },
   "outputs": [],
   "source": [
    "import numpy as np\n",
    "import pandas as pd\n",
    "from sklearn.utils import resample\n",
    "from imblearn.over_sampling import SMOTE\n",
    "from sklearn.preprocessing import OneHotEncoder\n",
    "from sklearn.preprocessing import MinMaxScaler, RobustScaler, StandardScaler\n",
    "from sklearn.model_selection import train_test_split, RandomizedSearchCV, GridSearchCV\n",
    "\n",
    "import imblearn\n",
    "from sklearn.svm import SVC\n",
    "from xgboost import XGBClassifier\n",
    "from sklearn.tree import DecisionTreeClassifier\n",
    "from sklearn.ensemble import RandomForestClassifier\n",
    "from sklearn.linear_model import LogisticRegression\n",
    "\n",
    "from sklearn.metrics import confusion_matrix, classification_report, accuracy_score, precision_score, recall_score, f1_score\n",
    "\n",
    "import warnings\n",
    "warnings.filterwarnings('ignore')"
   ]
  },
  {
   "cell_type": "markdown",
   "metadata": {
    "id": "veCll5vXNYXN"
   },
   "source": [
    "## Loading cleaned Dataset"
   ]
  },
  {
   "cell_type": "code",
   "execution_count": 2,
   "metadata": {
    "colab": {
     "base_uri": "https://localhost:8080/",
     "height": 461
    },
    "id": "X7er3DJjm_Bh",
    "outputId": "28d172d2-1751-40c1-8cd0-f0c077cb9c97"
   },
   "outputs": [
    {
     "data": {
      "text/html": [
       "<div>\n",
       "<style scoped>\n",
       "    .dataframe tbody tr th:only-of-type {\n",
       "        vertical-align: middle;\n",
       "    }\n",
       "\n",
       "    .dataframe tbody tr th {\n",
       "        vertical-align: top;\n",
       "    }\n",
       "\n",
       "    .dataframe thead th {\n",
       "        text-align: right;\n",
       "    }\n",
       "</style>\n",
       "<table border=\"1\" class=\"dataframe\">\n",
       "  <thead>\n",
       "    <tr style=\"text-align: right;\">\n",
       "      <th></th>\n",
       "      <th>State</th>\n",
       "      <th>Customer Lifetime Value</th>\n",
       "      <th>Response</th>\n",
       "      <th>Coverage</th>\n",
       "      <th>Education</th>\n",
       "      <th>Effective To Date</th>\n",
       "      <th>EmploymentStatus</th>\n",
       "      <th>Gender</th>\n",
       "      <th>Income</th>\n",
       "      <th>Location Code</th>\n",
       "      <th>...</th>\n",
       "      <th>Renew Offer Type</th>\n",
       "      <th>Sales Channel</th>\n",
       "      <th>Total Claim Amount</th>\n",
       "      <th>Vehicle Class</th>\n",
       "      <th>Vehicle Size</th>\n",
       "      <th>Income_group</th>\n",
       "      <th>Claim_group</th>\n",
       "      <th>clv_group</th>\n",
       "      <th>premi_group</th>\n",
       "      <th>numpolicy_group</th>\n",
       "    </tr>\n",
       "    <tr>\n",
       "      <th>Customer</th>\n",
       "      <th></th>\n",
       "      <th></th>\n",
       "      <th></th>\n",
       "      <th></th>\n",
       "      <th></th>\n",
       "      <th></th>\n",
       "      <th></th>\n",
       "      <th></th>\n",
       "      <th></th>\n",
       "      <th></th>\n",
       "      <th></th>\n",
       "      <th></th>\n",
       "      <th></th>\n",
       "      <th></th>\n",
       "      <th></th>\n",
       "      <th></th>\n",
       "      <th></th>\n",
       "      <th></th>\n",
       "      <th></th>\n",
       "      <th></th>\n",
       "      <th></th>\n",
       "    </tr>\n",
       "  </thead>\n",
       "  <tbody>\n",
       "    <tr>\n",
       "      <th>BU79786</th>\n",
       "      <td>Washington</td>\n",
       "      <td>2763.519279</td>\n",
       "      <td>No</td>\n",
       "      <td>Basic</td>\n",
       "      <td>Bachelor</td>\n",
       "      <td>2011-02-24</td>\n",
       "      <td>Employed</td>\n",
       "      <td>F</td>\n",
       "      <td>56274</td>\n",
       "      <td>Suburban</td>\n",
       "      <td>...</td>\n",
       "      <td>Offer1</td>\n",
       "      <td>Agent</td>\n",
       "      <td>384.811147</td>\n",
       "      <td>Two-Door Car</td>\n",
       "      <td>Medsize</td>\n",
       "      <td>High Income</td>\n",
       "      <td>up to 400</td>\n",
       "      <td>up to 6.000</td>\n",
       "      <td>0 - 85 dollar</td>\n",
       "      <td>Low</td>\n",
       "    </tr>\n",
       "    <tr>\n",
       "      <th>QZ44356</th>\n",
       "      <td>Arizona</td>\n",
       "      <td>6979.535903</td>\n",
       "      <td>No</td>\n",
       "      <td>Extended</td>\n",
       "      <td>Bachelor</td>\n",
       "      <td>2011-01-31</td>\n",
       "      <td>Unemployed</td>\n",
       "      <td>F</td>\n",
       "      <td>0</td>\n",
       "      <td>Suburban</td>\n",
       "      <td>...</td>\n",
       "      <td>Offer3</td>\n",
       "      <td>Agent</td>\n",
       "      <td>1131.464935</td>\n",
       "      <td>Four-Door Car</td>\n",
       "      <td>Medsize</td>\n",
       "      <td>Low Income</td>\n",
       "      <td>up to 1500</td>\n",
       "      <td>up to 30.000</td>\n",
       "      <td>85 - 150 dollar</td>\n",
       "      <td>High</td>\n",
       "    </tr>\n",
       "    <tr>\n",
       "      <th>AI49188</th>\n",
       "      <td>Nevada</td>\n",
       "      <td>12887.431650</td>\n",
       "      <td>No</td>\n",
       "      <td>Premium</td>\n",
       "      <td>Bachelor</td>\n",
       "      <td>2011-02-19</td>\n",
       "      <td>Employed</td>\n",
       "      <td>F</td>\n",
       "      <td>48767</td>\n",
       "      <td>Suburban</td>\n",
       "      <td>...</td>\n",
       "      <td>Offer1</td>\n",
       "      <td>Agent</td>\n",
       "      <td>566.472247</td>\n",
       "      <td>Two-Door Car</td>\n",
       "      <td>Medsize</td>\n",
       "      <td>Medium Income</td>\n",
       "      <td>up to 1500</td>\n",
       "      <td>up to 30.000</td>\n",
       "      <td>85 - 150 dollar</td>\n",
       "      <td>Low</td>\n",
       "    </tr>\n",
       "    <tr>\n",
       "      <th>WW63253</th>\n",
       "      <td>California</td>\n",
       "      <td>7645.861827</td>\n",
       "      <td>No</td>\n",
       "      <td>Basic</td>\n",
       "      <td>Bachelor</td>\n",
       "      <td>2011-01-20</td>\n",
       "      <td>Unemployed</td>\n",
       "      <td>M</td>\n",
       "      <td>0</td>\n",
       "      <td>Suburban</td>\n",
       "      <td>...</td>\n",
       "      <td>Offer1</td>\n",
       "      <td>Call Center</td>\n",
       "      <td>529.881344</td>\n",
       "      <td>SUV</td>\n",
       "      <td>Medsize</td>\n",
       "      <td>Low Income</td>\n",
       "      <td>up to 1500</td>\n",
       "      <td>up to 30.000</td>\n",
       "      <td>85 - 150 dollar</td>\n",
       "      <td>High</td>\n",
       "    </tr>\n",
       "    <tr>\n",
       "      <th>HB64268</th>\n",
       "      <td>Washington</td>\n",
       "      <td>2813.692575</td>\n",
       "      <td>No</td>\n",
       "      <td>Basic</td>\n",
       "      <td>Bachelor</td>\n",
       "      <td>2011-02-03</td>\n",
       "      <td>Employed</td>\n",
       "      <td>M</td>\n",
       "      <td>43836</td>\n",
       "      <td>Rural</td>\n",
       "      <td>...</td>\n",
       "      <td>Offer1</td>\n",
       "      <td>Agent</td>\n",
       "      <td>138.130879</td>\n",
       "      <td>Four-Door Car</td>\n",
       "      <td>Medsize</td>\n",
       "      <td>Medium Income</td>\n",
       "      <td>up to 400</td>\n",
       "      <td>up to 6.000</td>\n",
       "      <td>0 - 85 dollar</td>\n",
       "      <td>Low</td>\n",
       "    </tr>\n",
       "  </tbody>\n",
       "</table>\n",
       "<p>5 rows × 28 columns</p>\n",
       "</div>"
      ],
      "text/plain": [
       "               State  Customer Lifetime Value Response  Coverage Education  \\\n",
       "Customer                                                                     \n",
       "BU79786   Washington              2763.519279       No     Basic  Bachelor   \n",
       "QZ44356      Arizona              6979.535903       No  Extended  Bachelor   \n",
       "AI49188       Nevada             12887.431650       No   Premium  Bachelor   \n",
       "WW63253   California              7645.861827       No     Basic  Bachelor   \n",
       "HB64268   Washington              2813.692575       No     Basic  Bachelor   \n",
       "\n",
       "         Effective To Date EmploymentStatus Gender  Income Location Code  ...  \\\n",
       "Customer                                                                  ...   \n",
       "BU79786         2011-02-24         Employed      F   56274      Suburban  ...   \n",
       "QZ44356         2011-01-31       Unemployed      F       0      Suburban  ...   \n",
       "AI49188         2011-02-19         Employed      F   48767      Suburban  ...   \n",
       "WW63253         2011-01-20       Unemployed      M       0      Suburban  ...   \n",
       "HB64268         2011-02-03         Employed      M   43836         Rural  ...   \n",
       "\n",
       "         Renew Offer Type  Sales Channel  Total Claim Amount  Vehicle Class  \\\n",
       "Customer                                                                      \n",
       "BU79786            Offer1          Agent          384.811147   Two-Door Car   \n",
       "QZ44356            Offer3          Agent         1131.464935  Four-Door Car   \n",
       "AI49188            Offer1          Agent          566.472247   Two-Door Car   \n",
       "WW63253            Offer1    Call Center          529.881344            SUV   \n",
       "HB64268            Offer1          Agent          138.130879  Four-Door Car   \n",
       "\n",
       "          Vehicle Size   Income_group Claim_group     clv_group  \\\n",
       "Customer                                                          \n",
       "BU79786        Medsize    High Income  up to 400    up to 6.000   \n",
       "QZ44356        Medsize     Low Income  up to 1500  up to 30.000   \n",
       "AI49188        Medsize  Medium Income  up to 1500  up to 30.000   \n",
       "WW63253        Medsize     Low Income  up to 1500  up to 30.000   \n",
       "HB64268        Medsize  Medium Income  up to 400    up to 6.000   \n",
       "\n",
       "              premi_group numpolicy_group  \n",
       "Customer                                   \n",
       "BU79786     0 - 85 dollar             Low  \n",
       "QZ44356   85 - 150 dollar            High  \n",
       "AI49188   85 - 150 dollar             Low  \n",
       "WW63253   85 - 150 dollar            High  \n",
       "HB64268     0 - 85 dollar             Low  \n",
       "\n",
       "[5 rows x 28 columns]"
      ]
     },
     "execution_count": 2,
     "metadata": {},
     "output_type": "execute_result"
    }
   ],
   "source": [
    "df = pd.read_csv(\"data_clean.csv\", index_col = 0)\n",
    "df.head()"
   ]
  },
  {
   "cell_type": "code",
   "execution_count": 3,
   "metadata": {
    "colab": {
     "base_uri": "https://localhost:8080/"
    },
    "id": "xJlnFFomnBwf",
    "outputId": "ef38c8d1-545f-4e2b-ad66-79d7b71a7c87"
   },
   "outputs": [
    {
     "data": {
      "text/plain": [
       "No     7743\n",
       "Yes    1302\n",
       "Name: Response, dtype: int64"
      ]
     },
     "execution_count": 3,
     "metadata": {},
     "output_type": "execute_result"
    }
   ],
   "source": [
    "df['Response'].value_counts()"
   ]
  },
  {
   "cell_type": "code",
   "execution_count": 4,
   "metadata": {
    "id": "bQ1lxU7u7lmT",
    "scrolled": false
   },
   "outputs": [
    {
     "data": {
      "text/html": [
       "<div>\n",
       "<style scoped>\n",
       "    .dataframe tbody tr th:only-of-type {\n",
       "        vertical-align: middle;\n",
       "    }\n",
       "\n",
       "    .dataframe tbody tr th {\n",
       "        vertical-align: top;\n",
       "    }\n",
       "\n",
       "    .dataframe thead th {\n",
       "        text-align: right;\n",
       "    }\n",
       "</style>\n",
       "<table border=\"1\" class=\"dataframe\">\n",
       "  <thead>\n",
       "    <tr style=\"text-align: right;\">\n",
       "      <th></th>\n",
       "      <th>State</th>\n",
       "      <th>Customer Lifetime Value</th>\n",
       "      <th>Response</th>\n",
       "      <th>Coverage</th>\n",
       "      <th>Education</th>\n",
       "      <th>EmploymentStatus</th>\n",
       "      <th>Gender</th>\n",
       "      <th>Income</th>\n",
       "      <th>Location Code</th>\n",
       "      <th>Marital Status</th>\n",
       "      <th>Monthly Premium Auto</th>\n",
       "      <th>Number of Policies</th>\n",
       "      <th>Policy</th>\n",
       "      <th>Renew Offer Type</th>\n",
       "      <th>Sales Channel</th>\n",
       "      <th>Total Claim Amount</th>\n",
       "      <th>Vehicle Class</th>\n",
       "      <th>Vehicle Size</th>\n",
       "    </tr>\n",
       "    <tr>\n",
       "      <th>Customer</th>\n",
       "      <th></th>\n",
       "      <th></th>\n",
       "      <th></th>\n",
       "      <th></th>\n",
       "      <th></th>\n",
       "      <th></th>\n",
       "      <th></th>\n",
       "      <th></th>\n",
       "      <th></th>\n",
       "      <th></th>\n",
       "      <th></th>\n",
       "      <th></th>\n",
       "      <th></th>\n",
       "      <th></th>\n",
       "      <th></th>\n",
       "      <th></th>\n",
       "      <th></th>\n",
       "      <th></th>\n",
       "    </tr>\n",
       "  </thead>\n",
       "  <tbody>\n",
       "    <tr>\n",
       "      <th>BU79786</th>\n",
       "      <td>Washington</td>\n",
       "      <td>2763.519279</td>\n",
       "      <td>No</td>\n",
       "      <td>Basic</td>\n",
       "      <td>Bachelor</td>\n",
       "      <td>Employed</td>\n",
       "      <td>F</td>\n",
       "      <td>56274</td>\n",
       "      <td>Suburban</td>\n",
       "      <td>Married</td>\n",
       "      <td>69</td>\n",
       "      <td>1</td>\n",
       "      <td>Corporate L3</td>\n",
       "      <td>Offer1</td>\n",
       "      <td>Agent</td>\n",
       "      <td>384.811147</td>\n",
       "      <td>Two-Door Car</td>\n",
       "      <td>Medsize</td>\n",
       "    </tr>\n",
       "    <tr>\n",
       "      <th>QZ44356</th>\n",
       "      <td>Arizona</td>\n",
       "      <td>6979.535903</td>\n",
       "      <td>No</td>\n",
       "      <td>Extended</td>\n",
       "      <td>Bachelor</td>\n",
       "      <td>Unemployed</td>\n",
       "      <td>F</td>\n",
       "      <td>0</td>\n",
       "      <td>Suburban</td>\n",
       "      <td>Single</td>\n",
       "      <td>94</td>\n",
       "      <td>8</td>\n",
       "      <td>Personal L3</td>\n",
       "      <td>Offer3</td>\n",
       "      <td>Agent</td>\n",
       "      <td>1131.464935</td>\n",
       "      <td>Four-Door Car</td>\n",
       "      <td>Medsize</td>\n",
       "    </tr>\n",
       "    <tr>\n",
       "      <th>AI49188</th>\n",
       "      <td>Nevada</td>\n",
       "      <td>12887.431650</td>\n",
       "      <td>No</td>\n",
       "      <td>Premium</td>\n",
       "      <td>Bachelor</td>\n",
       "      <td>Employed</td>\n",
       "      <td>F</td>\n",
       "      <td>48767</td>\n",
       "      <td>Suburban</td>\n",
       "      <td>Married</td>\n",
       "      <td>108</td>\n",
       "      <td>2</td>\n",
       "      <td>Personal L3</td>\n",
       "      <td>Offer1</td>\n",
       "      <td>Agent</td>\n",
       "      <td>566.472247</td>\n",
       "      <td>Two-Door Car</td>\n",
       "      <td>Medsize</td>\n",
       "    </tr>\n",
       "    <tr>\n",
       "      <th>WW63253</th>\n",
       "      <td>California</td>\n",
       "      <td>7645.861827</td>\n",
       "      <td>No</td>\n",
       "      <td>Basic</td>\n",
       "      <td>Bachelor</td>\n",
       "      <td>Unemployed</td>\n",
       "      <td>M</td>\n",
       "      <td>0</td>\n",
       "      <td>Suburban</td>\n",
       "      <td>Married</td>\n",
       "      <td>106</td>\n",
       "      <td>7</td>\n",
       "      <td>Corporate L2</td>\n",
       "      <td>Offer1</td>\n",
       "      <td>Call Center</td>\n",
       "      <td>529.881344</td>\n",
       "      <td>SUV</td>\n",
       "      <td>Medsize</td>\n",
       "    </tr>\n",
       "    <tr>\n",
       "      <th>HB64268</th>\n",
       "      <td>Washington</td>\n",
       "      <td>2813.692575</td>\n",
       "      <td>No</td>\n",
       "      <td>Basic</td>\n",
       "      <td>Bachelor</td>\n",
       "      <td>Employed</td>\n",
       "      <td>M</td>\n",
       "      <td>43836</td>\n",
       "      <td>Rural</td>\n",
       "      <td>Single</td>\n",
       "      <td>73</td>\n",
       "      <td>1</td>\n",
       "      <td>Personal L1</td>\n",
       "      <td>Offer1</td>\n",
       "      <td>Agent</td>\n",
       "      <td>138.130879</td>\n",
       "      <td>Four-Door Car</td>\n",
       "      <td>Medsize</td>\n",
       "    </tr>\n",
       "  </tbody>\n",
       "</table>\n",
       "</div>"
      ],
      "text/plain": [
       "               State  Customer Lifetime Value Response  Coverage Education  \\\n",
       "Customer                                                                     \n",
       "BU79786   Washington              2763.519279       No     Basic  Bachelor   \n",
       "QZ44356      Arizona              6979.535903       No  Extended  Bachelor   \n",
       "AI49188       Nevada             12887.431650       No   Premium  Bachelor   \n",
       "WW63253   California              7645.861827       No     Basic  Bachelor   \n",
       "HB64268   Washington              2813.692575       No     Basic  Bachelor   \n",
       "\n",
       "         EmploymentStatus Gender  Income Location Code Marital Status  \\\n",
       "Customer                                                                \n",
       "BU79786          Employed      F   56274      Suburban        Married   \n",
       "QZ44356        Unemployed      F       0      Suburban         Single   \n",
       "AI49188          Employed      F   48767      Suburban        Married   \n",
       "WW63253        Unemployed      M       0      Suburban        Married   \n",
       "HB64268          Employed      M   43836         Rural         Single   \n",
       "\n",
       "          Monthly Premium Auto  Number of Policies        Policy  \\\n",
       "Customer                                                           \n",
       "BU79786                     69                   1  Corporate L3   \n",
       "QZ44356                     94                   8   Personal L3   \n",
       "AI49188                    108                   2   Personal L3   \n",
       "WW63253                    106                   7  Corporate L2   \n",
       "HB64268                     73                   1   Personal L1   \n",
       "\n",
       "         Renew Offer Type Sales Channel  Total Claim Amount  Vehicle Class  \\\n",
       "Customer                                                                     \n",
       "BU79786            Offer1         Agent          384.811147   Two-Door Car   \n",
       "QZ44356            Offer3         Agent         1131.464935  Four-Door Car   \n",
       "AI49188            Offer1         Agent          566.472247   Two-Door Car   \n",
       "WW63253            Offer1   Call Center          529.881344            SUV   \n",
       "HB64268            Offer1         Agent          138.130879  Four-Door Car   \n",
       "\n",
       "         Vehicle Size  \n",
       "Customer               \n",
       "BU79786       Medsize  \n",
       "QZ44356       Medsize  \n",
       "AI49188       Medsize  \n",
       "WW63253       Medsize  \n",
       "HB64268       Medsize  "
      ]
     },
     "execution_count": 4,
     "metadata": {},
     "output_type": "execute_result"
    }
   ],
   "source": [
    "df.drop(['Policy Type', 'Income_group', 'Claim_group', 'clv_group', 'premi_group', 'Effective To Date', \n",
    "         'Number of Open Complaints', 'Months Since Last Claim', 'Months Since Policy Inception', \n",
    "         'numpolicy_group'], axis = 1, inplace = True)\n",
    "df.head()"
   ]
  },
  {
   "cell_type": "markdown",
   "metadata": {
    "id": "RVyPhc_C6kds"
   },
   "source": [
    "# Label Encoding"
   ]
  },
  {
   "cell_type": "code",
   "execution_count": 5,
   "metadata": {
    "id": "huycWgUJ6j2R"
   },
   "outputs": [
    {
     "data": {
      "text/html": [
       "<div>\n",
       "<style scoped>\n",
       "    .dataframe tbody tr th:only-of-type {\n",
       "        vertical-align: middle;\n",
       "    }\n",
       "\n",
       "    .dataframe tbody tr th {\n",
       "        vertical-align: top;\n",
       "    }\n",
       "\n",
       "    .dataframe thead th {\n",
       "        text-align: right;\n",
       "    }\n",
       "</style>\n",
       "<table border=\"1\" class=\"dataframe\">\n",
       "  <thead>\n",
       "    <tr style=\"text-align: right;\">\n",
       "      <th></th>\n",
       "      <th>State</th>\n",
       "      <th>Customer Lifetime Value</th>\n",
       "      <th>Response</th>\n",
       "      <th>Coverage</th>\n",
       "      <th>Education</th>\n",
       "      <th>EmploymentStatus</th>\n",
       "      <th>Gender</th>\n",
       "      <th>Income</th>\n",
       "      <th>Location Code</th>\n",
       "      <th>Marital Status</th>\n",
       "      <th>Monthly Premium Auto</th>\n",
       "      <th>Number of Policies</th>\n",
       "      <th>Policy</th>\n",
       "      <th>Renew Offer Type</th>\n",
       "      <th>Sales Channel</th>\n",
       "      <th>Total Claim Amount</th>\n",
       "      <th>Vehicle Class</th>\n",
       "      <th>Vehicle Size</th>\n",
       "    </tr>\n",
       "    <tr>\n",
       "      <th>Customer</th>\n",
       "      <th></th>\n",
       "      <th></th>\n",
       "      <th></th>\n",
       "      <th></th>\n",
       "      <th></th>\n",
       "      <th></th>\n",
       "      <th></th>\n",
       "      <th></th>\n",
       "      <th></th>\n",
       "      <th></th>\n",
       "      <th></th>\n",
       "      <th></th>\n",
       "      <th></th>\n",
       "      <th></th>\n",
       "      <th></th>\n",
       "      <th></th>\n",
       "      <th></th>\n",
       "      <th></th>\n",
       "    </tr>\n",
       "  </thead>\n",
       "  <tbody>\n",
       "    <tr>\n",
       "      <th>BU79786</th>\n",
       "      <td>Washington</td>\n",
       "      <td>2763.519279</td>\n",
       "      <td>0</td>\n",
       "      <td>0</td>\n",
       "      <td>2</td>\n",
       "      <td>Employed</td>\n",
       "      <td>1</td>\n",
       "      <td>56274</td>\n",
       "      <td>Suburban</td>\n",
       "      <td>Married</td>\n",
       "      <td>69</td>\n",
       "      <td>1</td>\n",
       "      <td>Corporate L3</td>\n",
       "      <td>Offer1</td>\n",
       "      <td>Agent</td>\n",
       "      <td>384.811147</td>\n",
       "      <td>Two-Door Car</td>\n",
       "      <td>1</td>\n",
       "    </tr>\n",
       "    <tr>\n",
       "      <th>QZ44356</th>\n",
       "      <td>Arizona</td>\n",
       "      <td>6979.535903</td>\n",
       "      <td>0</td>\n",
       "      <td>1</td>\n",
       "      <td>2</td>\n",
       "      <td>Unemployed</td>\n",
       "      <td>1</td>\n",
       "      <td>0</td>\n",
       "      <td>Suburban</td>\n",
       "      <td>Single</td>\n",
       "      <td>94</td>\n",
       "      <td>8</td>\n",
       "      <td>Personal L3</td>\n",
       "      <td>Offer3</td>\n",
       "      <td>Agent</td>\n",
       "      <td>1131.464935</td>\n",
       "      <td>Four-Door Car</td>\n",
       "      <td>1</td>\n",
       "    </tr>\n",
       "    <tr>\n",
       "      <th>AI49188</th>\n",
       "      <td>Nevada</td>\n",
       "      <td>12887.431650</td>\n",
       "      <td>0</td>\n",
       "      <td>2</td>\n",
       "      <td>2</td>\n",
       "      <td>Employed</td>\n",
       "      <td>1</td>\n",
       "      <td>48767</td>\n",
       "      <td>Suburban</td>\n",
       "      <td>Married</td>\n",
       "      <td>108</td>\n",
       "      <td>2</td>\n",
       "      <td>Personal L3</td>\n",
       "      <td>Offer1</td>\n",
       "      <td>Agent</td>\n",
       "      <td>566.472247</td>\n",
       "      <td>Two-Door Car</td>\n",
       "      <td>1</td>\n",
       "    </tr>\n",
       "    <tr>\n",
       "      <th>WW63253</th>\n",
       "      <td>California</td>\n",
       "      <td>7645.861827</td>\n",
       "      <td>0</td>\n",
       "      <td>0</td>\n",
       "      <td>2</td>\n",
       "      <td>Unemployed</td>\n",
       "      <td>0</td>\n",
       "      <td>0</td>\n",
       "      <td>Suburban</td>\n",
       "      <td>Married</td>\n",
       "      <td>106</td>\n",
       "      <td>7</td>\n",
       "      <td>Corporate L2</td>\n",
       "      <td>Offer1</td>\n",
       "      <td>Call Center</td>\n",
       "      <td>529.881344</td>\n",
       "      <td>SUV</td>\n",
       "      <td>1</td>\n",
       "    </tr>\n",
       "    <tr>\n",
       "      <th>HB64268</th>\n",
       "      <td>Washington</td>\n",
       "      <td>2813.692575</td>\n",
       "      <td>0</td>\n",
       "      <td>0</td>\n",
       "      <td>2</td>\n",
       "      <td>Employed</td>\n",
       "      <td>0</td>\n",
       "      <td>43836</td>\n",
       "      <td>Rural</td>\n",
       "      <td>Single</td>\n",
       "      <td>73</td>\n",
       "      <td>1</td>\n",
       "      <td>Personal L1</td>\n",
       "      <td>Offer1</td>\n",
       "      <td>Agent</td>\n",
       "      <td>138.130879</td>\n",
       "      <td>Four-Door Car</td>\n",
       "      <td>1</td>\n",
       "    </tr>\n",
       "  </tbody>\n",
       "</table>\n",
       "</div>"
      ],
      "text/plain": [
       "               State  Customer Lifetime Value  Response  Coverage  Education  \\\n",
       "Customer                                                                       \n",
       "BU79786   Washington              2763.519279         0         0          2   \n",
       "QZ44356      Arizona              6979.535903         0         1          2   \n",
       "AI49188       Nevada             12887.431650         0         2          2   \n",
       "WW63253   California              7645.861827         0         0          2   \n",
       "HB64268   Washington              2813.692575         0         0          2   \n",
       "\n",
       "         EmploymentStatus  Gender  Income Location Code Marital Status  \\\n",
       "Customer                                                                 \n",
       "BU79786          Employed       1   56274      Suburban        Married   \n",
       "QZ44356        Unemployed       1       0      Suburban         Single   \n",
       "AI49188          Employed       1   48767      Suburban        Married   \n",
       "WW63253        Unemployed       0       0      Suburban        Married   \n",
       "HB64268          Employed       0   43836         Rural         Single   \n",
       "\n",
       "          Monthly Premium Auto  Number of Policies        Policy  \\\n",
       "Customer                                                           \n",
       "BU79786                     69                   1  Corporate L3   \n",
       "QZ44356                     94                   8   Personal L3   \n",
       "AI49188                    108                   2   Personal L3   \n",
       "WW63253                    106                   7  Corporate L2   \n",
       "HB64268                     73                   1   Personal L1   \n",
       "\n",
       "         Renew Offer Type Sales Channel  Total Claim Amount  Vehicle Class  \\\n",
       "Customer                                                                     \n",
       "BU79786            Offer1         Agent          384.811147   Two-Door Car   \n",
       "QZ44356            Offer3         Agent         1131.464935  Four-Door Car   \n",
       "AI49188            Offer1         Agent          566.472247   Two-Door Car   \n",
       "WW63253            Offer1   Call Center          529.881344            SUV   \n",
       "HB64268            Offer1         Agent          138.130879  Four-Door Car   \n",
       "\n",
       "          Vehicle Size  \n",
       "Customer                \n",
       "BU79786              1  \n",
       "QZ44356              1  \n",
       "AI49188              1  \n",
       "WW63253              1  \n",
       "HB64268              1  "
      ]
     },
     "execution_count": 5,
     "metadata": {},
     "output_type": "execute_result"
    }
   ],
   "source": [
    "#Label Encoding\n",
    "df['Gender'] = df['Gender'].map({'M' : 0, 'F' : 1})\n",
    "df['Coverage'] = df['Coverage'].map({'Basic' : 0, 'Extended' : 1, 'Premium' : 2})\n",
    "df['Education'] = df['Education'].map({'High School or Below' : 0, 'College' : 1, 'Bachelor' : 2, 'Master' : 3, 'Doctor' : 4})\n",
    "df['Vehicle Size'] = df['Vehicle Size'].map({'Small' : 0, 'Medsize' : 1, 'Large' : 2})\n",
    "df['Response'] = df['Response'].map({'No' : 0, 'Yes' : 1})\n",
    "\n",
    "df.head()"
   ]
  },
  {
   "cell_type": "code",
   "execution_count": 6,
   "metadata": {
    "id": "a986E1p1DGbh"
   },
   "outputs": [
    {
     "data": {
      "text/html": [
       "<div>\n",
       "<style scoped>\n",
       "    .dataframe tbody tr th:only-of-type {\n",
       "        vertical-align: middle;\n",
       "    }\n",
       "\n",
       "    .dataframe tbody tr th {\n",
       "        vertical-align: top;\n",
       "    }\n",
       "\n",
       "    .dataframe thead th {\n",
       "        text-align: right;\n",
       "    }\n",
       "</style>\n",
       "<table border=\"1\" class=\"dataframe\">\n",
       "  <thead>\n",
       "    <tr style=\"text-align: right;\">\n",
       "      <th></th>\n",
       "      <th>Customer Lifetime Value</th>\n",
       "      <th>Response</th>\n",
       "      <th>Coverage</th>\n",
       "      <th>Education</th>\n",
       "      <th>Gender</th>\n",
       "      <th>Income</th>\n",
       "      <th>Monthly Premium Auto</th>\n",
       "      <th>Number of Policies</th>\n",
       "      <th>Total Claim Amount</th>\n",
       "      <th>Vehicle Size</th>\n",
       "      <th>...</th>\n",
       "      <th>Sales Channel_Agent</th>\n",
       "      <th>Sales Channel_Branch</th>\n",
       "      <th>Sales Channel_Call Center</th>\n",
       "      <th>Sales Channel_Web</th>\n",
       "      <th>Vehicle Class_Four-Door Car</th>\n",
       "      <th>Vehicle Class_Luxury Car</th>\n",
       "      <th>Vehicle Class_Luxury SUV</th>\n",
       "      <th>Vehicle Class_SUV</th>\n",
       "      <th>Vehicle Class_Sports Car</th>\n",
       "      <th>Vehicle Class_Two-Door Car</th>\n",
       "    </tr>\n",
       "    <tr>\n",
       "      <th>Customer</th>\n",
       "      <th></th>\n",
       "      <th></th>\n",
       "      <th></th>\n",
       "      <th></th>\n",
       "      <th></th>\n",
       "      <th></th>\n",
       "      <th></th>\n",
       "      <th></th>\n",
       "      <th></th>\n",
       "      <th></th>\n",
       "      <th></th>\n",
       "      <th></th>\n",
       "      <th></th>\n",
       "      <th></th>\n",
       "      <th></th>\n",
       "      <th></th>\n",
       "      <th></th>\n",
       "      <th></th>\n",
       "      <th></th>\n",
       "      <th></th>\n",
       "      <th></th>\n",
       "    </tr>\n",
       "  </thead>\n",
       "  <tbody>\n",
       "    <tr>\n",
       "      <th>BU79786</th>\n",
       "      <td>2763.519279</td>\n",
       "      <td>0</td>\n",
       "      <td>0</td>\n",
       "      <td>2</td>\n",
       "      <td>1</td>\n",
       "      <td>56274</td>\n",
       "      <td>69</td>\n",
       "      <td>1</td>\n",
       "      <td>384.811147</td>\n",
       "      <td>1</td>\n",
       "      <td>...</td>\n",
       "      <td>1</td>\n",
       "      <td>0</td>\n",
       "      <td>0</td>\n",
       "      <td>0</td>\n",
       "      <td>0</td>\n",
       "      <td>0</td>\n",
       "      <td>0</td>\n",
       "      <td>0</td>\n",
       "      <td>0</td>\n",
       "      <td>1</td>\n",
       "    </tr>\n",
       "    <tr>\n",
       "      <th>QZ44356</th>\n",
       "      <td>6979.535903</td>\n",
       "      <td>0</td>\n",
       "      <td>1</td>\n",
       "      <td>2</td>\n",
       "      <td>1</td>\n",
       "      <td>0</td>\n",
       "      <td>94</td>\n",
       "      <td>8</td>\n",
       "      <td>1131.464935</td>\n",
       "      <td>1</td>\n",
       "      <td>...</td>\n",
       "      <td>1</td>\n",
       "      <td>0</td>\n",
       "      <td>0</td>\n",
       "      <td>0</td>\n",
       "      <td>1</td>\n",
       "      <td>0</td>\n",
       "      <td>0</td>\n",
       "      <td>0</td>\n",
       "      <td>0</td>\n",
       "      <td>0</td>\n",
       "    </tr>\n",
       "    <tr>\n",
       "      <th>AI49188</th>\n",
       "      <td>12887.431650</td>\n",
       "      <td>0</td>\n",
       "      <td>2</td>\n",
       "      <td>2</td>\n",
       "      <td>1</td>\n",
       "      <td>48767</td>\n",
       "      <td>108</td>\n",
       "      <td>2</td>\n",
       "      <td>566.472247</td>\n",
       "      <td>1</td>\n",
       "      <td>...</td>\n",
       "      <td>1</td>\n",
       "      <td>0</td>\n",
       "      <td>0</td>\n",
       "      <td>0</td>\n",
       "      <td>0</td>\n",
       "      <td>0</td>\n",
       "      <td>0</td>\n",
       "      <td>0</td>\n",
       "      <td>0</td>\n",
       "      <td>1</td>\n",
       "    </tr>\n",
       "    <tr>\n",
       "      <th>WW63253</th>\n",
       "      <td>7645.861827</td>\n",
       "      <td>0</td>\n",
       "      <td>0</td>\n",
       "      <td>2</td>\n",
       "      <td>0</td>\n",
       "      <td>0</td>\n",
       "      <td>106</td>\n",
       "      <td>7</td>\n",
       "      <td>529.881344</td>\n",
       "      <td>1</td>\n",
       "      <td>...</td>\n",
       "      <td>0</td>\n",
       "      <td>0</td>\n",
       "      <td>1</td>\n",
       "      <td>0</td>\n",
       "      <td>0</td>\n",
       "      <td>0</td>\n",
       "      <td>0</td>\n",
       "      <td>1</td>\n",
       "      <td>0</td>\n",
       "      <td>0</td>\n",
       "    </tr>\n",
       "    <tr>\n",
       "      <th>HB64268</th>\n",
       "      <td>2813.692575</td>\n",
       "      <td>0</td>\n",
       "      <td>0</td>\n",
       "      <td>2</td>\n",
       "      <td>0</td>\n",
       "      <td>43836</td>\n",
       "      <td>73</td>\n",
       "      <td>1</td>\n",
       "      <td>138.130879</td>\n",
       "      <td>1</td>\n",
       "      <td>...</td>\n",
       "      <td>1</td>\n",
       "      <td>0</td>\n",
       "      <td>0</td>\n",
       "      <td>0</td>\n",
       "      <td>1</td>\n",
       "      <td>0</td>\n",
       "      <td>0</td>\n",
       "      <td>0</td>\n",
       "      <td>0</td>\n",
       "      <td>0</td>\n",
       "    </tr>\n",
       "  </tbody>\n",
       "</table>\n",
       "<p>5 rows × 49 columns</p>\n",
       "</div>"
      ],
      "text/plain": [
       "          Customer Lifetime Value  Response  Coverage  Education  Gender  \\\n",
       "Customer                                                                   \n",
       "BU79786               2763.519279         0         0          2       1   \n",
       "QZ44356               6979.535903         0         1          2       1   \n",
       "AI49188              12887.431650         0         2          2       1   \n",
       "WW63253               7645.861827         0         0          2       0   \n",
       "HB64268               2813.692575         0         0          2       0   \n",
       "\n",
       "          Income  Monthly Premium Auto  Number of Policies  \\\n",
       "Customer                                                     \n",
       "BU79786    56274                    69                   1   \n",
       "QZ44356        0                    94                   8   \n",
       "AI49188    48767                   108                   2   \n",
       "WW63253        0                   106                   7   \n",
       "HB64268    43836                    73                   1   \n",
       "\n",
       "          Total Claim Amount  Vehicle Size  ...  Sales Channel_Agent  \\\n",
       "Customer                                    ...                        \n",
       "BU79786           384.811147             1  ...                    1   \n",
       "QZ44356          1131.464935             1  ...                    1   \n",
       "AI49188           566.472247             1  ...                    1   \n",
       "WW63253           529.881344             1  ...                    0   \n",
       "HB64268           138.130879             1  ...                    1   \n",
       "\n",
       "          Sales Channel_Branch  Sales Channel_Call Center  Sales Channel_Web  \\\n",
       "Customer                                                                       \n",
       "BU79786                      0                          0                  0   \n",
       "QZ44356                      0                          0                  0   \n",
       "AI49188                      0                          0                  0   \n",
       "WW63253                      0                          1                  0   \n",
       "HB64268                      0                          0                  0   \n",
       "\n",
       "          Vehicle Class_Four-Door Car  Vehicle Class_Luxury Car  \\\n",
       "Customer                                                          \n",
       "BU79786                             0                         0   \n",
       "QZ44356                             1                         0   \n",
       "AI49188                             0                         0   \n",
       "WW63253                             0                         0   \n",
       "HB64268                             1                         0   \n",
       "\n",
       "          Vehicle Class_Luxury SUV  Vehicle Class_SUV  \\\n",
       "Customer                                                \n",
       "BU79786                          0                  0   \n",
       "QZ44356                          0                  0   \n",
       "AI49188                          0                  0   \n",
       "WW63253                          0                  1   \n",
       "HB64268                          0                  0   \n",
       "\n",
       "          Vehicle Class_Sports Car  Vehicle Class_Two-Door Car  \n",
       "Customer                                                        \n",
       "BU79786                          0                           1  \n",
       "QZ44356                          0                           0  \n",
       "AI49188                          0                           1  \n",
       "WW63253                          0                           0  \n",
       "HB64268                          0                           0  \n",
       "\n",
       "[5 rows x 49 columns]"
      ]
     },
     "execution_count": 6,
     "metadata": {},
     "output_type": "execute_result"
    }
   ],
   "source": [
    "to_encode = ['State', 'EmploymentStatus', 'Location Code', 'Marital Status', 'Policy', 'Renew Offer Type', \n",
    "             'Sales Channel', 'Vehicle Class']\n",
    "\n",
    "df_processed = pd.get_dummies(df, prefix_sep=\"_\", columns=to_encode)\n",
    "\n",
    "df_processed.head()"
   ]
  },
  {
   "cell_type": "markdown",
   "metadata": {
    "id": "97gnBMe9IBQC"
   },
   "source": [
    "# Correlation"
   ]
  },
  {
   "cell_type": "code",
   "execution_count": 7,
   "metadata": {
    "colab": {
     "base_uri": "https://localhost:8080/"
    },
    "id": "ojhEwgkhBXMT",
    "outputId": "6fab0faa-a1b6-4724-8502-1fbe557b4afa"
   },
   "outputs": [
    {
     "data": {
      "text/plain": [
       "EmploymentStatus_Retired          0.296120\n",
       "Renew Offer Type_Offer2           0.177755\n",
       "Location Code_Suburban            0.115491\n",
       "Marital Status_Divorced           0.113316\n",
       "Sales Channel_Agent               0.110324\n",
       "Vehicle Size                      0.054557\n",
       "Renew Offer Type_Offer1           0.036612\n",
       "Vehicle Class_Sports Car          0.028910\n",
       "Vehicle Class_SUV                 0.024932\n",
       "Education                         0.024286\n",
       "Policy_Special L3                 0.024070\n",
       "EmploymentStatus_Medical Leave    0.023834\n",
       "EmploymentStatus_Disabled         0.021110\n",
       "Total Claim Amount                0.013910\n",
       "Income                            0.012729\n",
       "Monthly Premium Auto              0.009987\n",
       "Policy_Special L1                 0.009249\n",
       "Policy_Corporate L3               0.008236\n",
       "Vehicle Class_Luxury SUV          0.008182\n",
       "Policy_Personal L1                0.006516\n",
       "State_Oregon                      0.003027\n",
       "State_California                  0.002574\n",
       "Policy_Corporate L2               0.001922\n",
       "Policy_Personal L2               -0.000006\n",
       "State_Arizona                    -0.000562\n",
       "Coverage                         -0.001455\n",
       "State_Nevada                     -0.001777\n",
       "Policy_Corporate L1              -0.005030\n",
       "Gender                           -0.005047\n",
       "State_Washington                 -0.006535\n",
       "Vehicle Class_Two-Door Car       -0.007812\n",
       "Customer Lifetime Value          -0.009614\n",
       "Policy_Special L2                -0.010257\n",
       "Policy_Personal L3               -0.014022\n",
       "Vehicle Class_Four-Door Car      -0.021588\n",
       "Number of Policies               -0.022617\n",
       "Vehicle Class_Luxury Car         -0.027140\n",
       "Sales Channel_Web                -0.029028\n",
       "EmploymentStatus_Employed        -0.038010\n",
       "Marital Status_Married           -0.040264\n",
       "Marital Status_Single            -0.046312\n",
       "Sales Channel_Branch             -0.050860\n",
       "Sales Channel_Call Center        -0.051926\n",
       "Location Code_Rural              -0.069913\n",
       "Location Code_Urban              -0.074387\n",
       "EmploymentStatus_Unemployed      -0.097332\n",
       "Renew Offer Type_Offer4          -0.145547\n",
       "Renew Offer Type_Offer3          -0.151069\n",
       "Name: Response, dtype: float64"
      ]
     },
     "execution_count": 7,
     "metadata": {},
     "output_type": "execute_result"
    }
   ],
   "source": [
    "cor = df_processed.corr()\n",
    "\n",
    "cor['Response'].sort_values(ascending = False)[1:]"
   ]
  },
  {
   "cell_type": "code",
   "execution_count": 8,
   "metadata": {},
   "outputs": [],
   "source": [
    "# variable 1 correlates 0.8 with variable 2\n",
    "# variable 3 correlates -0.8 with variable 4\n",
    "\n",
    "df_processed.to_csv('data_ml.csv')"
   ]
  },
  {
   "cell_type": "markdown",
   "metadata": {
    "id": "9emzY1N4LEU8"
   },
   "source": [
    "# Splitting Data"
   ]
  },
  {
   "cell_type": "code",
   "execution_count": 9,
   "metadata": {
    "id": "8YZnNnkXLDzp"
   },
   "outputs": [],
   "source": [
    "x = df_processed.drop(columns = ['Response'] , axis = 1)\n",
    "y = df_processed['Response']"
   ]
  },
  {
   "cell_type": "code",
   "execution_count": 10,
   "metadata": {
    "id": "AwkYUTgFMCLU"
   },
   "outputs": [
    {
     "name": "stdout",
     "output_type": "stream",
     "text": [
      "(7236, 48) (1809, 48) (7236,) (1809,)\n"
     ]
    }
   ],
   "source": [
    "x_train, x_test, y_train, y_test = train_test_split(x, y, train_size=.8, stratify= y, random_state = 42)\n",
    "\n",
    "print(x_train.shape, x_test.shape, y_train.shape, y_test.shape)"
   ]
  },
  {
   "cell_type": "markdown",
   "metadata": {
    "id": "0Yj7ozxSMMmi"
   },
   "source": [
    "# Handling Imbalance Data"
   ]
  },
  {
   "cell_type": "code",
   "execution_count": 11,
   "metadata": {
    "colab": {
     "base_uri": "https://localhost:8080/"
    },
    "id": "i20dCbkRM9TK",
    "outputId": "de7742b5-6087-48b1-9f32-9529bcbf3939"
   },
   "outputs": [
    {
     "data": {
      "text/plain": [
       "0    6194\n",
       "1    1042\n",
       "Name: Response, dtype: int64"
      ]
     },
     "execution_count": 11,
     "metadata": {},
     "output_type": "execute_result"
    }
   ],
   "source": [
    "y_train.value_counts()"
   ]
  },
  {
   "cell_type": "markdown",
   "metadata": {
    "id": "SuwjIX1JMVta"
   },
   "source": [
    "#### Random Over Sampling"
   ]
  },
  {
   "cell_type": "code",
   "execution_count": 12,
   "metadata": {
    "colab": {
     "base_uri": "https://localhost:8080/"
    },
    "id": "X0bWeSkZMPhl",
    "outputId": "e9fdf446-fad4-4152-9197-8622ae1396b7"
   },
   "outputs": [
    {
     "data": {
      "text/plain": [
       "0    6194\n",
       "1    6194\n",
       "Name: Response, dtype: int64"
      ]
     },
     "execution_count": 12,
     "metadata": {},
     "output_type": "execute_result"
    }
   ],
   "source": [
    "df_train = pd.concat([x_train, y_train], axis=1)\n",
    "\n",
    "not_renewal = df_train[df_train['Response'] == 0]\n",
    "renewal = df_train[df_train['Response'] == 1]\n",
    "\n",
    "renewal_oversample = resample(renewal, replace=True, n_samples = len(not_renewal), random_state = 42)\n",
    "\n",
    "df_OverSampled = pd.concat([not_renewal, renewal_oversample])\n",
    "\n",
    "df_OverSampled['Response'].value_counts()"
   ]
  },
  {
   "cell_type": "code",
   "execution_count": 13,
   "metadata": {
    "id": "mzYilLaeN-jQ"
   },
   "outputs": [],
   "source": [
    "x_train_os = df_OverSampled.drop(columns = ['Response'])\n",
    "y_train_os = df_OverSampled['Response']"
   ]
  },
  {
   "cell_type": "markdown",
   "metadata": {
    "id": "CMSbi3WuOdhl"
   },
   "source": [
    "#### Smote"
   ]
  },
  {
   "cell_type": "code",
   "execution_count": 14,
   "metadata": {
    "colab": {
     "base_uri": "https://localhost:8080/"
    },
    "id": "UdXTHZtFOf1M",
    "outputId": "5f1355cf-ae55-43cf-bf4c-9d3ff0e99a54"
   },
   "outputs": [
    {
     "data": {
      "text/plain": [
       "0    6194\n",
       "1    6194\n",
       "Name: Response, dtype: int64"
      ]
     },
     "execution_count": 14,
     "metadata": {},
     "output_type": "execute_result"
    }
   ],
   "source": [
    "sm = SMOTE(random_state=42)\n",
    "\n",
    "# Fit and resample the training data\n",
    "x_train_sm, y_train_sm = sm.fit_resample(x_train, y_train)\n",
    "\n",
    "x = pd.DataFrame(data = x_train_sm, columns = x_train.columns)\n",
    "y = pd.DataFrame(data = y_train_sm, columns = ['Response'])\n",
    "\n",
    "df_smote = x.join(y)\n",
    "\n",
    "df_smote['Response'].value_counts()"
   ]
  },
  {
   "cell_type": "code",
   "execution_count": 15,
   "metadata": {},
   "outputs": [],
   "source": [
    "columns_continuous = ['Customer Lifetime Value', 'Income', 'Monthly Premium Auto', \n",
    "                      'Number of Policies', 'Total Claim Amount']"
   ]
  },
  {
   "cell_type": "markdown",
   "metadata": {
    "id": "A2ABFHUaP5kn"
   },
   "source": [
    "# Base Model"
   ]
  },
  {
   "cell_type": "markdown",
   "metadata": {},
   "source": [
    "## SVM"
   ]
  },
  {
   "cell_type": "markdown",
   "metadata": {},
   "source": [
    "#### Random Over Sampling without Scaling"
   ]
  },
  {
   "cell_type": "code",
   "execution_count": 16,
   "metadata": {},
   "outputs": [
    {
     "data": {
      "text/html": [
       "<style>#sk-container-id-1 {color: black;background-color: white;}#sk-container-id-1 pre{padding: 0;}#sk-container-id-1 div.sk-toggleable {background-color: white;}#sk-container-id-1 label.sk-toggleable__label {cursor: pointer;display: block;width: 100%;margin-bottom: 0;padding: 0.3em;box-sizing: border-box;text-align: center;}#sk-container-id-1 label.sk-toggleable__label-arrow:before {content: \"▸\";float: left;margin-right: 0.25em;color: #696969;}#sk-container-id-1 label.sk-toggleable__label-arrow:hover:before {color: black;}#sk-container-id-1 div.sk-estimator:hover label.sk-toggleable__label-arrow:before {color: black;}#sk-container-id-1 div.sk-toggleable__content {max-height: 0;max-width: 0;overflow: hidden;text-align: left;background-color: #f0f8ff;}#sk-container-id-1 div.sk-toggleable__content pre {margin: 0.2em;color: black;border-radius: 0.25em;background-color: #f0f8ff;}#sk-container-id-1 input.sk-toggleable__control:checked~div.sk-toggleable__content {max-height: 200px;max-width: 100%;overflow: auto;}#sk-container-id-1 input.sk-toggleable__control:checked~label.sk-toggleable__label-arrow:before {content: \"▾\";}#sk-container-id-1 div.sk-estimator input.sk-toggleable__control:checked~label.sk-toggleable__label {background-color: #d4ebff;}#sk-container-id-1 div.sk-label input.sk-toggleable__control:checked~label.sk-toggleable__label {background-color: #d4ebff;}#sk-container-id-1 input.sk-hidden--visually {border: 0;clip: rect(1px 1px 1px 1px);clip: rect(1px, 1px, 1px, 1px);height: 1px;margin: -1px;overflow: hidden;padding: 0;position: absolute;width: 1px;}#sk-container-id-1 div.sk-estimator {font-family: monospace;background-color: #f0f8ff;border: 1px dotted black;border-radius: 0.25em;box-sizing: border-box;margin-bottom: 0.5em;}#sk-container-id-1 div.sk-estimator:hover {background-color: #d4ebff;}#sk-container-id-1 div.sk-parallel-item::after {content: \"\";width: 100%;border-bottom: 1px solid gray;flex-grow: 1;}#sk-container-id-1 div.sk-label:hover label.sk-toggleable__label {background-color: #d4ebff;}#sk-container-id-1 div.sk-serial::before {content: \"\";position: absolute;border-left: 1px solid gray;box-sizing: border-box;top: 0;bottom: 0;left: 50%;z-index: 0;}#sk-container-id-1 div.sk-serial {display: flex;flex-direction: column;align-items: center;background-color: white;padding-right: 0.2em;padding-left: 0.2em;position: relative;}#sk-container-id-1 div.sk-item {position: relative;z-index: 1;}#sk-container-id-1 div.sk-parallel {display: flex;align-items: stretch;justify-content: center;background-color: white;position: relative;}#sk-container-id-1 div.sk-item::before, #sk-container-id-1 div.sk-parallel-item::before {content: \"\";position: absolute;border-left: 1px solid gray;box-sizing: border-box;top: 0;bottom: 0;left: 50%;z-index: -1;}#sk-container-id-1 div.sk-parallel-item {display: flex;flex-direction: column;z-index: 1;position: relative;background-color: white;}#sk-container-id-1 div.sk-parallel-item:first-child::after {align-self: flex-end;width: 50%;}#sk-container-id-1 div.sk-parallel-item:last-child::after {align-self: flex-start;width: 50%;}#sk-container-id-1 div.sk-parallel-item:only-child::after {width: 0;}#sk-container-id-1 div.sk-dashed-wrapped {border: 1px dashed gray;margin: 0 0.4em 0.5em 0.4em;box-sizing: border-box;padding-bottom: 0.4em;background-color: white;}#sk-container-id-1 div.sk-label label {font-family: monospace;font-weight: bold;display: inline-block;line-height: 1.2em;}#sk-container-id-1 div.sk-label-container {text-align: center;}#sk-container-id-1 div.sk-container {/* jupyter's `normalize.less` sets `[hidden] { display: none; }` but bootstrap.min.css set `[hidden] { display: none !important; }` so we also need the `!important` here to be able to override the default hidden behavior on the sphinx rendered scikit-learn.org. See: https://github.com/scikit-learn/scikit-learn/issues/21755 */display: inline-block !important;position: relative;}#sk-container-id-1 div.sk-text-repr-fallback {display: none;}</style><div id=\"sk-container-id-1\" class=\"sk-top-container\"><div class=\"sk-text-repr-fallback\"><pre>SVC()</pre><b>In a Jupyter environment, please rerun this cell to show the HTML representation or trust the notebook. <br />On GitHub, the HTML representation is unable to render, please try loading this page with nbviewer.org.</b></div><div class=\"sk-container\" hidden><div class=\"sk-item\"><div class=\"sk-estimator sk-toggleable\"><input class=\"sk-toggleable__control sk-hidden--visually\" id=\"sk-estimator-id-1\" type=\"checkbox\" checked><label for=\"sk-estimator-id-1\" class=\"sk-toggleable__label sk-toggleable__label-arrow\">SVC</label><div class=\"sk-toggleable__content\"><pre>SVC()</pre></div></div></div></div></div>"
      ],
      "text/plain": [
       "SVC()"
      ]
     },
     "execution_count": 16,
     "metadata": {},
     "output_type": "execute_result"
    }
   ],
   "source": [
    "svm = SVC()\n",
    "svm.fit(x_train_os, y_train_os)"
   ]
  },
  {
   "cell_type": "code",
   "execution_count": 17,
   "metadata": {},
   "outputs": [],
   "source": [
    "pred_train_os = svm.predict(x_train_os)\n",
    "pred_test_os = svm.predict(x_test)"
   ]
  },
  {
   "cell_type": "code",
   "execution_count": 18,
   "metadata": {},
   "outputs": [],
   "source": [
    "svm_acc_base_train_os = accuracy_score(y_train_os, pred_train_os)\n",
    "svm_acc_base_test_os = accuracy_score(y_test, pred_test_os)\n",
    "\n",
    "svm_recall_base_train_os = recall_score(y_train_os, pred_train_os)\n",
    "svm_recall_base_test_os = recall_score(y_test, pred_test_os)\n",
    "\n",
    "svm_prec_base_train_os = precision_score(y_train_os, pred_train_os)\n",
    "svm_prec_base_test_os = precision_score(y_test, pred_test_os)\n",
    "\n",
    "svm_f1_base_train_os = f1_score(y_train_os, pred_train_os)\n",
    "svm_f1_base_test_os = f1_score(y_test, pred_test_os)"
   ]
  },
  {
   "cell_type": "code",
   "execution_count": 19,
   "metadata": {},
   "outputs": [
    {
     "data": {
      "text/html": [
       "<div>\n",
       "<style scoped>\n",
       "    .dataframe tbody tr th:only-of-type {\n",
       "        vertical-align: middle;\n",
       "    }\n",
       "\n",
       "    .dataframe tbody tr th {\n",
       "        vertical-align: top;\n",
       "    }\n",
       "\n",
       "    .dataframe thead th {\n",
       "        text-align: right;\n",
       "    }\n",
       "</style>\n",
       "<table border=\"1\" class=\"dataframe\">\n",
       "  <thead>\n",
       "    <tr style=\"text-align: right;\">\n",
       "      <th></th>\n",
       "      <th>Pred 1</th>\n",
       "      <th>Pred 0</th>\n",
       "    </tr>\n",
       "  </thead>\n",
       "  <tbody>\n",
       "    <tr>\n",
       "      <th>Akt 1</th>\n",
       "      <td>183</td>\n",
       "      <td>77</td>\n",
       "    </tr>\n",
       "    <tr>\n",
       "      <th>Akt 0</th>\n",
       "      <td>891</td>\n",
       "      <td>658</td>\n",
       "    </tr>\n",
       "  </tbody>\n",
       "</table>\n",
       "</div>"
      ],
      "text/plain": [
       "       Pred 1  Pred 0\n",
       "Akt 1     183      77\n",
       "Akt 0     891     658"
      ]
     },
     "execution_count": 19,
     "metadata": {},
     "output_type": "execute_result"
    }
   ],
   "source": [
    "cm_svm_base_os = confusion_matrix(y_test, pred_test_os, labels=[1, 0])\n",
    "\n",
    "cm_svm_base_os = pd.DataFrame(data=cm_svm_base_os, index=['Akt 1', 'Akt 0'], columns=['Pred 1', 'Pred 0'])\n",
    "cm_svm_base_os"
   ]
  },
  {
   "cell_type": "code",
   "execution_count": 20,
   "metadata": {},
   "outputs": [],
   "source": [
    "tp_svm_os = cm_svm_base_os['Pred 1'][0]\n",
    "tn_svm_os = cm_svm_base_os['Pred 0'][1]\n",
    "\n",
    "fp_svm_os = cm_svm_base_os['Pred 1'][1]\n",
    "fn_svm_os = cm_svm_base_os['Pred 0'][0]"
   ]
  },
  {
   "cell_type": "markdown",
   "metadata": {},
   "source": [
    "#### Smote without Scaling"
   ]
  },
  {
   "cell_type": "code",
   "execution_count": 21,
   "metadata": {},
   "outputs": [
    {
     "data": {
      "text/html": [
       "<style>#sk-container-id-2 {color: black;background-color: white;}#sk-container-id-2 pre{padding: 0;}#sk-container-id-2 div.sk-toggleable {background-color: white;}#sk-container-id-2 label.sk-toggleable__label {cursor: pointer;display: block;width: 100%;margin-bottom: 0;padding: 0.3em;box-sizing: border-box;text-align: center;}#sk-container-id-2 label.sk-toggleable__label-arrow:before {content: \"▸\";float: left;margin-right: 0.25em;color: #696969;}#sk-container-id-2 label.sk-toggleable__label-arrow:hover:before {color: black;}#sk-container-id-2 div.sk-estimator:hover label.sk-toggleable__label-arrow:before {color: black;}#sk-container-id-2 div.sk-toggleable__content {max-height: 0;max-width: 0;overflow: hidden;text-align: left;background-color: #f0f8ff;}#sk-container-id-2 div.sk-toggleable__content pre {margin: 0.2em;color: black;border-radius: 0.25em;background-color: #f0f8ff;}#sk-container-id-2 input.sk-toggleable__control:checked~div.sk-toggleable__content {max-height: 200px;max-width: 100%;overflow: auto;}#sk-container-id-2 input.sk-toggleable__control:checked~label.sk-toggleable__label-arrow:before {content: \"▾\";}#sk-container-id-2 div.sk-estimator input.sk-toggleable__control:checked~label.sk-toggleable__label {background-color: #d4ebff;}#sk-container-id-2 div.sk-label input.sk-toggleable__control:checked~label.sk-toggleable__label {background-color: #d4ebff;}#sk-container-id-2 input.sk-hidden--visually {border: 0;clip: rect(1px 1px 1px 1px);clip: rect(1px, 1px, 1px, 1px);height: 1px;margin: -1px;overflow: hidden;padding: 0;position: absolute;width: 1px;}#sk-container-id-2 div.sk-estimator {font-family: monospace;background-color: #f0f8ff;border: 1px dotted black;border-radius: 0.25em;box-sizing: border-box;margin-bottom: 0.5em;}#sk-container-id-2 div.sk-estimator:hover {background-color: #d4ebff;}#sk-container-id-2 div.sk-parallel-item::after {content: \"\";width: 100%;border-bottom: 1px solid gray;flex-grow: 1;}#sk-container-id-2 div.sk-label:hover label.sk-toggleable__label {background-color: #d4ebff;}#sk-container-id-2 div.sk-serial::before {content: \"\";position: absolute;border-left: 1px solid gray;box-sizing: border-box;top: 0;bottom: 0;left: 50%;z-index: 0;}#sk-container-id-2 div.sk-serial {display: flex;flex-direction: column;align-items: center;background-color: white;padding-right: 0.2em;padding-left: 0.2em;position: relative;}#sk-container-id-2 div.sk-item {position: relative;z-index: 1;}#sk-container-id-2 div.sk-parallel {display: flex;align-items: stretch;justify-content: center;background-color: white;position: relative;}#sk-container-id-2 div.sk-item::before, #sk-container-id-2 div.sk-parallel-item::before {content: \"\";position: absolute;border-left: 1px solid gray;box-sizing: border-box;top: 0;bottom: 0;left: 50%;z-index: -1;}#sk-container-id-2 div.sk-parallel-item {display: flex;flex-direction: column;z-index: 1;position: relative;background-color: white;}#sk-container-id-2 div.sk-parallel-item:first-child::after {align-self: flex-end;width: 50%;}#sk-container-id-2 div.sk-parallel-item:last-child::after {align-self: flex-start;width: 50%;}#sk-container-id-2 div.sk-parallel-item:only-child::after {width: 0;}#sk-container-id-2 div.sk-dashed-wrapped {border: 1px dashed gray;margin: 0 0.4em 0.5em 0.4em;box-sizing: border-box;padding-bottom: 0.4em;background-color: white;}#sk-container-id-2 div.sk-label label {font-family: monospace;font-weight: bold;display: inline-block;line-height: 1.2em;}#sk-container-id-2 div.sk-label-container {text-align: center;}#sk-container-id-2 div.sk-container {/* jupyter's `normalize.less` sets `[hidden] { display: none; }` but bootstrap.min.css set `[hidden] { display: none !important; }` so we also need the `!important` here to be able to override the default hidden behavior on the sphinx rendered scikit-learn.org. See: https://github.com/scikit-learn/scikit-learn/issues/21755 */display: inline-block !important;position: relative;}#sk-container-id-2 div.sk-text-repr-fallback {display: none;}</style><div id=\"sk-container-id-2\" class=\"sk-top-container\"><div class=\"sk-text-repr-fallback\"><pre>SVC()</pre><b>In a Jupyter environment, please rerun this cell to show the HTML representation or trust the notebook. <br />On GitHub, the HTML representation is unable to render, please try loading this page with nbviewer.org.</b></div><div class=\"sk-container\" hidden><div class=\"sk-item\"><div class=\"sk-estimator sk-toggleable\"><input class=\"sk-toggleable__control sk-hidden--visually\" id=\"sk-estimator-id-2\" type=\"checkbox\" checked><label for=\"sk-estimator-id-2\" class=\"sk-toggleable__label sk-toggleable__label-arrow\">SVC</label><div class=\"sk-toggleable__content\"><pre>SVC()</pre></div></div></div></div></div>"
      ],
      "text/plain": [
       "SVC()"
      ]
     },
     "execution_count": 21,
     "metadata": {},
     "output_type": "execute_result"
    }
   ],
   "source": [
    "svm.fit(x_train_sm, y_train_sm)"
   ]
  },
  {
   "cell_type": "code",
   "execution_count": 22,
   "metadata": {},
   "outputs": [],
   "source": [
    "pred_train_sm = svm.predict(x_train_sm)\n",
    "pred_test_sm = svm.predict(x_test)"
   ]
  },
  {
   "cell_type": "code",
   "execution_count": 23,
   "metadata": {},
   "outputs": [],
   "source": [
    "svm_acc_base_train_sm = accuracy_score(y_train_sm, pred_train_sm)\n",
    "svm_acc_base_test_sm = accuracy_score(y_test, pred_test_sm)\n",
    "\n",
    "svm_recall_base_train_sm = recall_score(y_train_sm, pred_train_sm)\n",
    "svm_recall_base_test_sm = recall_score(y_test, pred_test_sm)\n",
    "\n",
    "svm_prec_base_train_sm = precision_score(y_train_sm, pred_train_sm)\n",
    "svm_prec_base_test_sm = precision_score(y_test, pred_test_sm)\n",
    "\n",
    "svm_f1_base_train_sm = f1_score(y_train_sm, pred_train_sm)\n",
    "svm_f1_base_test_sm = f1_score(y_test, pred_test_sm)"
   ]
  },
  {
   "cell_type": "code",
   "execution_count": 24,
   "metadata": {},
   "outputs": [
    {
     "data": {
      "text/html": [
       "<div>\n",
       "<style scoped>\n",
       "    .dataframe tbody tr th:only-of-type {\n",
       "        vertical-align: middle;\n",
       "    }\n",
       "\n",
       "    .dataframe tbody tr th {\n",
       "        vertical-align: top;\n",
       "    }\n",
       "\n",
       "    .dataframe thead th {\n",
       "        text-align: right;\n",
       "    }\n",
       "</style>\n",
       "<table border=\"1\" class=\"dataframe\">\n",
       "  <thead>\n",
       "    <tr style=\"text-align: right;\">\n",
       "      <th></th>\n",
       "      <th>Pred 1</th>\n",
       "      <th>Pred 0</th>\n",
       "    </tr>\n",
       "  </thead>\n",
       "  <tbody>\n",
       "    <tr>\n",
       "      <th>Akt 1</th>\n",
       "      <td>182</td>\n",
       "      <td>78</td>\n",
       "    </tr>\n",
       "    <tr>\n",
       "      <th>Akt 0</th>\n",
       "      <td>881</td>\n",
       "      <td>668</td>\n",
       "    </tr>\n",
       "  </tbody>\n",
       "</table>\n",
       "</div>"
      ],
      "text/plain": [
       "       Pred 1  Pred 0\n",
       "Akt 1     182      78\n",
       "Akt 0     881     668"
      ]
     },
     "execution_count": 24,
     "metadata": {},
     "output_type": "execute_result"
    }
   ],
   "source": [
    "cm_svm_base_sm = confusion_matrix(y_test, pred_test_sm, labels=[1, 0])\n",
    "\n",
    "cm_svm_base_sm = pd.DataFrame(data=cm_svm_base_sm, index=['Akt 1', 'Akt 0'], columns=['Pred 1', 'Pred 0'])\n",
    "cm_svm_base_sm"
   ]
  },
  {
   "cell_type": "code",
   "execution_count": 25,
   "metadata": {},
   "outputs": [],
   "source": [
    "tp_svm_sm = cm_svm_base_sm['Pred 1'][0]\n",
    "tn_svm_sm = cm_svm_base_sm['Pred 0'][1]\n",
    "fp_svm_sm = cm_svm_base_sm['Pred 1'][1]\n",
    "fn_svm_sm = cm_svm_base_sm['Pred 0'][0]"
   ]
  },
  {
   "cell_type": "markdown",
   "metadata": {},
   "source": [
    "#### Random Over Sampling with Standard Scaler"
   ]
  },
  {
   "cell_type": "code",
   "execution_count": 26,
   "metadata": {},
   "outputs": [],
   "source": [
    "std_scale = StandardScaler()\n",
    "x_train_os[columns_continuous] = std_scale.fit_transform(x_train_os[columns_continuous])\n",
    "\n",
    "svm.fit(x_train_os, y_train_os)\n",
    "\n",
    "pred_train_os_std = svm.predict(x_train_os)\n",
    "\n",
    "x_test[columns_continuous] = std_scale.fit_transform(x_test[columns_continuous])\n",
    "pred_test_os_std = svm.predict(x_test)"
   ]
  },
  {
   "cell_type": "code",
   "execution_count": 27,
   "metadata": {},
   "outputs": [],
   "source": [
    "svm_acc_base_train_os_std = accuracy_score(y_train_os, pred_train_os_std)\n",
    "svm_acc_base_test_os_std = accuracy_score(y_test, pred_test_os_std)\n",
    "\n",
    "svm_recall_base_train_os_std = recall_score(y_train_os, pred_train_os_std)\n",
    "svm_recall_base_test_os_std = recall_score(y_test, pred_test_os_std)\n",
    "\n",
    "svm_prec_base_train_os_std = precision_score(y_train_os, pred_train_os_std)\n",
    "svm_prec_base_test_os_std = precision_score(y_test, pred_test_os_std)\n",
    "\n",
    "svm_f1_base_train_os_std = f1_score(y_train_os, pred_train_os_std)\n",
    "svm_f1_base_test_os_std = f1_score(y_test, pred_test_os_std)"
   ]
  },
  {
   "cell_type": "code",
   "execution_count": 28,
   "metadata": {},
   "outputs": [
    {
     "data": {
      "text/html": [
       "<div>\n",
       "<style scoped>\n",
       "    .dataframe tbody tr th:only-of-type {\n",
       "        vertical-align: middle;\n",
       "    }\n",
       "\n",
       "    .dataframe tbody tr th {\n",
       "        vertical-align: top;\n",
       "    }\n",
       "\n",
       "    .dataframe thead th {\n",
       "        text-align: right;\n",
       "    }\n",
       "</style>\n",
       "<table border=\"1\" class=\"dataframe\">\n",
       "  <thead>\n",
       "    <tr style=\"text-align: right;\">\n",
       "      <th></th>\n",
       "      <th>Pred 1</th>\n",
       "      <th>Pred 0</th>\n",
       "    </tr>\n",
       "  </thead>\n",
       "  <tbody>\n",
       "    <tr>\n",
       "      <th>Akt 1</th>\n",
       "      <td>240</td>\n",
       "      <td>20</td>\n",
       "    </tr>\n",
       "    <tr>\n",
       "      <th>Akt 0</th>\n",
       "      <td>205</td>\n",
       "      <td>1344</td>\n",
       "    </tr>\n",
       "  </tbody>\n",
       "</table>\n",
       "</div>"
      ],
      "text/plain": [
       "       Pred 1  Pred 0\n",
       "Akt 1     240      20\n",
       "Akt 0     205    1344"
      ]
     },
     "execution_count": 28,
     "metadata": {},
     "output_type": "execute_result"
    }
   ],
   "source": [
    "cm_svm_base_os_std = confusion_matrix(y_test, pred_test_os_std, labels=[1, 0])\n",
    "\n",
    "cm_svm_base_os_std = pd.DataFrame(data=cm_svm_base_os_std, index=['Akt 1', 'Akt 0'], columns=['Pred 1', 'Pred 0'])\n",
    "cm_svm_base_os_std"
   ]
  },
  {
   "cell_type": "code",
   "execution_count": 29,
   "metadata": {},
   "outputs": [],
   "source": [
    "tp_svm_os_std = cm_svm_base_os_std['Pred 1'][0]\n",
    "tn_svm_os_std = cm_svm_base_os_std['Pred 0'][1]\n",
    "\n",
    "fp_svm_os_std = cm_svm_base_os_std['Pred 1'][1]\n",
    "fn_svm_os_std = cm_svm_base_os_std['Pred 0'][0]"
   ]
  },
  {
   "cell_type": "markdown",
   "metadata": {},
   "source": [
    "#### Random Over Sampling with MinMax Scaler"
   ]
  },
  {
   "cell_type": "code",
   "execution_count": 30,
   "metadata": {},
   "outputs": [],
   "source": [
    "mm_scale = MinMaxScaler()\n",
    "\n",
    "x_train_os[columns_continuous] = mm_scale.fit_transform(x_train_os[columns_continuous])\n",
    "svm.fit(x_train_os, y_train_os)\n",
    "\n",
    "pred_train_os_mm = svm.predict(x_train_os)\n",
    "x_test[columns_continuous] = mm_scale.fit_transform(x_test[columns_continuous])\n",
    "\n",
    "pred_test_os_mm = svm.predict(x_test)"
   ]
  },
  {
   "cell_type": "code",
   "execution_count": 31,
   "metadata": {},
   "outputs": [],
   "source": [
    "svm_acc_base_train_os_mm = accuracy_score(y_train_os, pred_train_os_mm)\n",
    "svm_acc_base_test_os_mm = accuracy_score(y_test, pred_test_os_mm)\n",
    "\n",
    "svm_recall_base_train_os_mm = recall_score(y_train_os, pred_train_os_mm)\n",
    "svm_recall_base_test_os_mm = recall_score(y_test, pred_test_os_mm)\n",
    "\n",
    "svm_prec_base_train_os_mm = precision_score(y_train_os, pred_train_os_mm)\n",
    "svm_prec_base_test_os_mm = precision_score(y_test, pred_test_os_mm)\n",
    "\n",
    "svm_f1_base_train_os_mm = f1_score(y_train_os, pred_train_os_mm)\n",
    "svm_f1_base_test_os_mm = f1_score(y_test, pred_test_os_mm)"
   ]
  },
  {
   "cell_type": "code",
   "execution_count": 32,
   "metadata": {},
   "outputs": [
    {
     "data": {
      "text/html": [
       "<div>\n",
       "<style scoped>\n",
       "    .dataframe tbody tr th:only-of-type {\n",
       "        vertical-align: middle;\n",
       "    }\n",
       "\n",
       "    .dataframe tbody tr th {\n",
       "        vertical-align: top;\n",
       "    }\n",
       "\n",
       "    .dataframe thead th {\n",
       "        text-align: right;\n",
       "    }\n",
       "</style>\n",
       "<table border=\"1\" class=\"dataframe\">\n",
       "  <thead>\n",
       "    <tr style=\"text-align: right;\">\n",
       "      <th></th>\n",
       "      <th>Pred 1</th>\n",
       "      <th>Pred 0</th>\n",
       "    </tr>\n",
       "  </thead>\n",
       "  <tbody>\n",
       "    <tr>\n",
       "      <th>Akt 1</th>\n",
       "      <td>238</td>\n",
       "      <td>22</td>\n",
       "    </tr>\n",
       "    <tr>\n",
       "      <th>Akt 0</th>\n",
       "      <td>242</td>\n",
       "      <td>1307</td>\n",
       "    </tr>\n",
       "  </tbody>\n",
       "</table>\n",
       "</div>"
      ],
      "text/plain": [
       "       Pred 1  Pred 0\n",
       "Akt 1     238      22\n",
       "Akt 0     242    1307"
      ]
     },
     "execution_count": 32,
     "metadata": {},
     "output_type": "execute_result"
    }
   ],
   "source": [
    "cm_svm_base_os_mm = confusion_matrix(y_test, pred_test_os_mm, labels=[1, 0])\n",
    "\n",
    "cm_svm_base_os_mm = pd.DataFrame(data=cm_svm_base_os_mm, index=['Akt 1', 'Akt 0'], columns=['Pred 1', 'Pred 0'])\n",
    "cm_svm_base_os_mm"
   ]
  },
  {
   "cell_type": "code",
   "execution_count": 33,
   "metadata": {},
   "outputs": [],
   "source": [
    "tp_svm_os_mm = cm_svm_base_os_mm['Pred 1'][0]\n",
    "tn_svm_os_mm = cm_svm_base_os_mm['Pred 0'][1]\n",
    "\n",
    "fp_svm_os_mm = cm_svm_base_os_mm['Pred 1'][1]\n",
    "fn_svm_os_mm = cm_svm_base_os_mm['Pred 0'][0]"
   ]
  },
  {
   "cell_type": "markdown",
   "metadata": {},
   "source": [
    "#### Random Over Sampling with Robust Scaler"
   ]
  },
  {
   "cell_type": "code",
   "execution_count": 34,
   "metadata": {},
   "outputs": [],
   "source": [
    "rb_scale = RobustScaler()\n",
    "\n",
    "x_train_os[columns_continuous] = rb_scale.fit_transform(x_train_os[columns_continuous])\n",
    "svm.fit(x_train_os, y_train_os)\n",
    "\n",
    "pred_train_os_rb = svm.predict(x_train_os)\n",
    "x_test[columns_continuous] = rb_scale.fit_transform(x_test[columns_continuous])\n",
    "pred_test_os_rb = svm.predict(x_test)"
   ]
  },
  {
   "cell_type": "code",
   "execution_count": 35,
   "metadata": {},
   "outputs": [],
   "source": [
    "svm_acc_base_train_os_rb = accuracy_score(y_train_os, pred_train_os_rb)\n",
    "svm_acc_base_test_os_rb = accuracy_score(y_test, pred_test_os_rb)\n",
    "\n",
    "svm_recall_base_train_os_rb = recall_score(y_train_os, pred_train_os_rb)\n",
    "svm_recall_base_test_os_rb = recall_score(y_test, pred_test_os_rb)\n",
    "\n",
    "svm_prec_base_train_os_rb = precision_score(y_train_os, pred_train_os_rb)\n",
    "svm_prec_base_test_os_rb = precision_score(y_test, pred_test_os_rb)\n",
    "\n",
    "svm_f1_base_train_os_rb = f1_score(y_train_os, pred_train_os_rb)\n",
    "svm_f1_base_test_os_rb = f1_score(y_test, pred_test_os_rb)"
   ]
  },
  {
   "cell_type": "code",
   "execution_count": 36,
   "metadata": {},
   "outputs": [
    {
     "data": {
      "text/html": [
       "<div>\n",
       "<style scoped>\n",
       "    .dataframe tbody tr th:only-of-type {\n",
       "        vertical-align: middle;\n",
       "    }\n",
       "\n",
       "    .dataframe tbody tr th {\n",
       "        vertical-align: top;\n",
       "    }\n",
       "\n",
       "    .dataframe thead th {\n",
       "        text-align: right;\n",
       "    }\n",
       "</style>\n",
       "<table border=\"1\" class=\"dataframe\">\n",
       "  <thead>\n",
       "    <tr style=\"text-align: right;\">\n",
       "      <th></th>\n",
       "      <th>Pred 1</th>\n",
       "      <th>Pred 0</th>\n",
       "    </tr>\n",
       "  </thead>\n",
       "  <tbody>\n",
       "    <tr>\n",
       "      <th>Akt 1</th>\n",
       "      <td>240</td>\n",
       "      <td>20</td>\n",
       "    </tr>\n",
       "    <tr>\n",
       "      <th>Akt 0</th>\n",
       "      <td>207</td>\n",
       "      <td>1342</td>\n",
       "    </tr>\n",
       "  </tbody>\n",
       "</table>\n",
       "</div>"
      ],
      "text/plain": [
       "       Pred 1  Pred 0\n",
       "Akt 1     240      20\n",
       "Akt 0     207    1342"
      ]
     },
     "execution_count": 36,
     "metadata": {},
     "output_type": "execute_result"
    }
   ],
   "source": [
    "cm_svm_base_os_rb = confusion_matrix(y_test, pred_test_os_rb, labels=[1, 0])\n",
    "\n",
    "cm_svm_base_os_rb = pd.DataFrame(data=cm_svm_base_os_rb, index=['Akt 1', 'Akt 0'], columns=['Pred 1', 'Pred 0'])\n",
    "cm_svm_base_os_rb"
   ]
  },
  {
   "cell_type": "code",
   "execution_count": 37,
   "metadata": {},
   "outputs": [],
   "source": [
    "tp_svm_os_rb = cm_svm_base_os_rb['Pred 1'][0]\n",
    "tn_svm_os_rb = cm_svm_base_os_rb['Pred 0'][1]\n",
    "\n",
    "fp_svm_os_rb = cm_svm_base_os_rb['Pred 1'][1]\n",
    "fn_svm_os_rb = cm_svm_base_os_rb['Pred 0'][0]"
   ]
  },
  {
   "cell_type": "markdown",
   "metadata": {},
   "source": [
    "#### Smote with Standard Scaler"
   ]
  },
  {
   "cell_type": "code",
   "execution_count": 38,
   "metadata": {},
   "outputs": [],
   "source": [
    "x[columns_continuous] = std_scale.fit_transform(x[columns_continuous])\n",
    "svm.fit(x_train_sm, y_train_sm)\n",
    "\n",
    "pred_train_sm_std = svm.predict(x_train_sm)\n",
    "x_test[columns_continuous] = std_scale.fit_transform(x_test[columns_continuous])\n",
    "pred_test_sm_std = svm.predict(x_test)"
   ]
  },
  {
   "cell_type": "code",
   "execution_count": 39,
   "metadata": {},
   "outputs": [],
   "source": [
    "svm_acc_base_train_sm_std = accuracy_score(y_train_sm, pred_train_sm_std)\n",
    "svm_acc_base_test_sm_std = accuracy_score(y_test, pred_test_sm_std)\n",
    "\n",
    "svm_recall_base_train_sm_std = recall_score(y_train_sm, pred_train_sm_std)\n",
    "svm_recall_base_test_sm_std = recall_score(y_test, pred_test_sm_std)\n",
    "\n",
    "svm_prec_base_train_sm_std = precision_score(y_train_sm, pred_train_sm_std)\n",
    "svm_prec_base_test_sm_std = precision_score(y_test, pred_test_sm_std)\n",
    "\n",
    "svm_f1_base_train_sm_std = f1_score(y_train_sm, pred_train_sm_std)\n",
    "svm_f1_base_test_sm_std = f1_score(y_test, pred_test_sm_std)"
   ]
  },
  {
   "cell_type": "code",
   "execution_count": 40,
   "metadata": {},
   "outputs": [
    {
     "data": {
      "text/html": [
       "<div>\n",
       "<style scoped>\n",
       "    .dataframe tbody tr th:only-of-type {\n",
       "        vertical-align: middle;\n",
       "    }\n",
       "\n",
       "    .dataframe tbody tr th {\n",
       "        vertical-align: top;\n",
       "    }\n",
       "\n",
       "    .dataframe thead th {\n",
       "        text-align: right;\n",
       "    }\n",
       "</style>\n",
       "<table border=\"1\" class=\"dataframe\">\n",
       "  <thead>\n",
       "    <tr style=\"text-align: right;\">\n",
       "      <th></th>\n",
       "      <th>Pred 1</th>\n",
       "      <th>Pred 0</th>\n",
       "    </tr>\n",
       "  </thead>\n",
       "  <tbody>\n",
       "    <tr>\n",
       "      <th>Akt 1</th>\n",
       "      <td>0</td>\n",
       "      <td>260</td>\n",
       "    </tr>\n",
       "    <tr>\n",
       "      <th>Akt 0</th>\n",
       "      <td>0</td>\n",
       "      <td>1549</td>\n",
       "    </tr>\n",
       "  </tbody>\n",
       "</table>\n",
       "</div>"
      ],
      "text/plain": [
       "       Pred 1  Pred 0\n",
       "Akt 1       0     260\n",
       "Akt 0       0    1549"
      ]
     },
     "execution_count": 40,
     "metadata": {},
     "output_type": "execute_result"
    }
   ],
   "source": [
    "cm_svm_base_sm_std = confusion_matrix(y_test, pred_test_sm_std, labels=[1, 0])\n",
    "\n",
    "cm_svm_base_sm_std = pd.DataFrame(data=cm_svm_base_sm_std, index=['Akt 1', 'Akt 0'], columns=['Pred 1', 'Pred 0'])\n",
    "cm_svm_base_sm_std"
   ]
  },
  {
   "cell_type": "code",
   "execution_count": 41,
   "metadata": {},
   "outputs": [],
   "source": [
    "tp_svm_sm_std = cm_svm_base_sm_std['Pred 1'][0]\n",
    "tn_svm_sm_std = cm_svm_base_sm_std['Pred 0'][1]\n",
    "\n",
    "fp_svm_sm_std = cm_svm_base_sm_std['Pred 1'][1]\n",
    "fn_svm_sm_std = cm_svm_base_sm_std['Pred 0'][0]"
   ]
  },
  {
   "cell_type": "markdown",
   "metadata": {},
   "source": [
    "#### Smote with MinMax Scaler"
   ]
  },
  {
   "cell_type": "code",
   "execution_count": 42,
   "metadata": {},
   "outputs": [],
   "source": [
    "mm_scale = MinMaxScaler()\n",
    "\n",
    "x[columns_continuous] = mm_scale.fit_transform(x[columns_continuous])\n",
    "svm.fit(x_train_sm, y_train_sm)\n",
    "\n",
    "pred_train_sm_mm = svm.predict(x_train_sm)\n",
    "x_test[columns_continuous] = mm_scale.fit_transform(x_test[columns_continuous])\n",
    "pred_test_sm_mm = svm.predict(x_test)"
   ]
  },
  {
   "cell_type": "code",
   "execution_count": 43,
   "metadata": {},
   "outputs": [],
   "source": [
    "svm_acc_base_train_sm_mm = accuracy_score(y_train_sm, pred_train_sm_mm)\n",
    "svm_acc_base_test_sm_mm = accuracy_score(y_test, pred_test_sm_mm)\n",
    "\n",
    "svm_recall_base_train_sm_mm = recall_score(y_train_sm, pred_train_sm_mm)\n",
    "svm_recall_base_test_sm_mm = recall_score(y_test, pred_test_sm_mm)\n",
    "\n",
    "svm_prec_base_train_sm_mm = precision_score(y_train_sm, pred_train_sm_mm)\n",
    "svm_prec_base_test_sm_mm = precision_score(y_test, pred_test_sm_mm)\n",
    "\n",
    "svm_f1_base_train_sm_mm = f1_score(y_train_sm, pred_train_sm_mm)\n",
    "svm_f1_base_test_sm_mm = f1_score(y_test, pred_test_sm_mm)"
   ]
  },
  {
   "cell_type": "code",
   "execution_count": 44,
   "metadata": {},
   "outputs": [
    {
     "data": {
      "text/html": [
       "<div>\n",
       "<style scoped>\n",
       "    .dataframe tbody tr th:only-of-type {\n",
       "        vertical-align: middle;\n",
       "    }\n",
       "\n",
       "    .dataframe tbody tr th {\n",
       "        vertical-align: top;\n",
       "    }\n",
       "\n",
       "    .dataframe thead th {\n",
       "        text-align: right;\n",
       "    }\n",
       "</style>\n",
       "<table border=\"1\" class=\"dataframe\">\n",
       "  <thead>\n",
       "    <tr style=\"text-align: right;\">\n",
       "      <th></th>\n",
       "      <th>Pred 1</th>\n",
       "      <th>Pred 0</th>\n",
       "    </tr>\n",
       "  </thead>\n",
       "  <tbody>\n",
       "    <tr>\n",
       "      <th>Akt 1</th>\n",
       "      <td>0</td>\n",
       "      <td>260</td>\n",
       "    </tr>\n",
       "    <tr>\n",
       "      <th>Akt 0</th>\n",
       "      <td>0</td>\n",
       "      <td>1549</td>\n",
       "    </tr>\n",
       "  </tbody>\n",
       "</table>\n",
       "</div>"
      ],
      "text/plain": [
       "       Pred 1  Pred 0\n",
       "Akt 1       0     260\n",
       "Akt 0       0    1549"
      ]
     },
     "execution_count": 44,
     "metadata": {},
     "output_type": "execute_result"
    }
   ],
   "source": [
    "cm_svm_base_sm_mm = confusion_matrix(y_test, pred_test_sm_mm, labels=[1, 0])\n",
    "\n",
    "cm_svm_base_sm_mm = pd.DataFrame(data=cm_svm_base_sm_mm, index=['Akt 1', 'Akt 0'], columns=['Pred 1', 'Pred 0'])\n",
    "cm_svm_base_sm_mm"
   ]
  },
  {
   "cell_type": "code",
   "execution_count": 45,
   "metadata": {},
   "outputs": [],
   "source": [
    "tp_svm_sm_mm = cm_svm_base_sm_mm['Pred 1'][0]\n",
    "tn_svm_sm_mm = cm_svm_base_sm_mm['Pred 0'][1]\n",
    "\n",
    "fp_svm_sm_mm = cm_svm_base_sm_mm['Pred 1'][1]\n",
    "fn_svm_sm_mm = cm_svm_base_sm_mm['Pred 0'][0]"
   ]
  },
  {
   "cell_type": "markdown",
   "metadata": {},
   "source": [
    "#### Smote with Robust Scaler"
   ]
  },
  {
   "cell_type": "code",
   "execution_count": 46,
   "metadata": {},
   "outputs": [],
   "source": [
    "rb_scale = RobustScaler()\n",
    "\n",
    "x[columns_continuous] = rb_scale.fit_transform(x[columns_continuous])\n",
    "svm.fit(x_train_sm, y_train_sm)\n",
    "\n",
    "pred_train_sm_rb = svm.predict(x_train_sm)\n",
    "x_test[columns_continuous] = rb_scale.fit_transform(x_test[columns_continuous])\n",
    "pred_test_sm_rb = svm.predict(x_test)"
   ]
  },
  {
   "cell_type": "code",
   "execution_count": 47,
   "metadata": {},
   "outputs": [],
   "source": [
    "svm_acc_base_train_sm_rb = accuracy_score(y_train_sm, pred_train_sm_rb)\n",
    "svm_acc_base_test_sm_rb = accuracy_score(y_test, pred_test_sm_rb)\n",
    "\n",
    "svm_recall_base_train_sm_rb = recall_score(y_train_sm, pred_train_sm_rb)\n",
    "svm_recall_base_test_sm_rb = recall_score(y_test, pred_test_sm_rb)\n",
    "\n",
    "svm_prec_base_train_sm_rb = precision_score(y_train_sm, pred_train_sm_rb)\n",
    "svm_prec_base_test_sm_rb = precision_score(y_test, pred_test_sm_rb)\n",
    "\n",
    "svm_f1_base_train_sm_rb = f1_score(y_train_sm, pred_train_sm_rb)\n",
    "svm_f1_base_test_sm_rb = f1_score(y_test, pred_test_sm_rb)"
   ]
  },
  {
   "cell_type": "code",
   "execution_count": 48,
   "metadata": {},
   "outputs": [
    {
     "data": {
      "text/html": [
       "<div>\n",
       "<style scoped>\n",
       "    .dataframe tbody tr th:only-of-type {\n",
       "        vertical-align: middle;\n",
       "    }\n",
       "\n",
       "    .dataframe tbody tr th {\n",
       "        vertical-align: top;\n",
       "    }\n",
       "\n",
       "    .dataframe thead th {\n",
       "        text-align: right;\n",
       "    }\n",
       "</style>\n",
       "<table border=\"1\" class=\"dataframe\">\n",
       "  <thead>\n",
       "    <tr style=\"text-align: right;\">\n",
       "      <th></th>\n",
       "      <th>Pred 1</th>\n",
       "      <th>Pred 0</th>\n",
       "    </tr>\n",
       "  </thead>\n",
       "  <tbody>\n",
       "    <tr>\n",
       "      <th>Akt 1</th>\n",
       "      <td>0</td>\n",
       "      <td>260</td>\n",
       "    </tr>\n",
       "    <tr>\n",
       "      <th>Akt 0</th>\n",
       "      <td>0</td>\n",
       "      <td>1549</td>\n",
       "    </tr>\n",
       "  </tbody>\n",
       "</table>\n",
       "</div>"
      ],
      "text/plain": [
       "       Pred 1  Pred 0\n",
       "Akt 1       0     260\n",
       "Akt 0       0    1549"
      ]
     },
     "execution_count": 48,
     "metadata": {},
     "output_type": "execute_result"
    }
   ],
   "source": [
    "cm_svm_base_sm_rb = confusion_matrix(y_test, pred_test_sm_rb, labels=[1, 0])\n",
    "\n",
    "cm_svm_base_sm_rb = pd.DataFrame(data=cm_svm_base_sm_rb, index=['Akt 1', 'Akt 0'], columns=['Pred 1', 'Pred 0'])\n",
    "cm_svm_base_sm_rb"
   ]
  },
  {
   "cell_type": "code",
   "execution_count": 49,
   "metadata": {},
   "outputs": [],
   "source": [
    "tp_svm_sm_rb = cm_svm_base_sm_rb['Pred 1'][0]\n",
    "tn_svm_sm_rb = cm_svm_base_sm_rb['Pred 0'][1]\n",
    "\n",
    "fp_svm_sm_rb = cm_svm_base_sm_rb['Pred 1'][1]\n",
    "fn_svm_sm_rb = cm_svm_base_sm_rb['Pred 0'][0]"
   ]
  },
  {
   "cell_type": "markdown",
   "metadata": {
    "id": "XfRTwLbGP872"
   },
   "source": [
    "## Logistic Regression"
   ]
  },
  {
   "cell_type": "markdown",
   "metadata": {
    "id": "kcTtXGLPyYZ3"
   },
   "source": [
    "#### Random Over Sampling without Scaling"
   ]
  },
  {
   "cell_type": "code",
   "execution_count": 50,
   "metadata": {
    "id": "MhVgT38_eXkD"
   },
   "outputs": [],
   "source": [
    "logreg = LogisticRegression()\n",
    "\n",
    "logreg.fit(x_train_os, y_train_os)\n",
    "\n",
    "pred_train_os = logreg.predict(x_train_os)\n",
    "pred_test_os = logreg.predict(x_test)"
   ]
  },
  {
   "cell_type": "code",
   "execution_count": 51,
   "metadata": {
    "id": "2rufw1COyEB2"
   },
   "outputs": [],
   "source": [
    "logreg_acc_base_train_os = accuracy_score(y_train_os, pred_train_os)\n",
    "logreg_acc_base_test_os = accuracy_score(y_test, pred_test_os)\n",
    "\n",
    "logreg_recall_base_train_os = recall_score(y_train_os, pred_train_os)\n",
    "logreg_recall_base_test_os = recall_score(y_test, pred_test_os)\n",
    "\n",
    "logreg_prec_base_train_os = precision_score(y_train_os, pred_train_os)\n",
    "logreg_prec_base_test_os = precision_score(y_test, pred_test_os)\n",
    "\n",
    "logreg_f1_base_train_os = f1_score(y_train_os, pred_train_os)\n",
    "logreg_f1_base_test_os = f1_score(y_test, pred_test_os)"
   ]
  },
  {
   "cell_type": "code",
   "execution_count": 52,
   "metadata": {
    "colab": {
     "base_uri": "https://localhost:8080/",
     "height": 110
    },
    "id": "kbqgXsbze4Ge",
    "outputId": "ff647596-2097-409c-af88-a6936296d32c"
   },
   "outputs": [
    {
     "data": {
      "text/html": [
       "<div>\n",
       "<style scoped>\n",
       "    .dataframe tbody tr th:only-of-type {\n",
       "        vertical-align: middle;\n",
       "    }\n",
       "\n",
       "    .dataframe tbody tr th {\n",
       "        vertical-align: top;\n",
       "    }\n",
       "\n",
       "    .dataframe thead th {\n",
       "        text-align: right;\n",
       "    }\n",
       "</style>\n",
       "<table border=\"1\" class=\"dataframe\">\n",
       "  <thead>\n",
       "    <tr style=\"text-align: right;\">\n",
       "      <th></th>\n",
       "      <th>Pred 1</th>\n",
       "      <th>Pred 0</th>\n",
       "    </tr>\n",
       "  </thead>\n",
       "  <tbody>\n",
       "    <tr>\n",
       "      <th>Akt 1</th>\n",
       "      <td>191</td>\n",
       "      <td>69</td>\n",
       "    </tr>\n",
       "    <tr>\n",
       "      <th>Akt 0</th>\n",
       "      <td>454</td>\n",
       "      <td>1095</td>\n",
       "    </tr>\n",
       "  </tbody>\n",
       "</table>\n",
       "</div>"
      ],
      "text/plain": [
       "       Pred 1  Pred 0\n",
       "Akt 1     191      69\n",
       "Akt 0     454    1095"
      ]
     },
     "execution_count": 52,
     "metadata": {},
     "output_type": "execute_result"
    }
   ],
   "source": [
    "cm_logreg_base_os = confusion_matrix(y_test, pred_test_os, labels=[1, 0])\n",
    "\n",
    "cm_logreg_base_os = pd.DataFrame(data=cm_logreg_base_os, index=['Akt 1', 'Akt 0'], columns=['Pred 1', 'Pred 0'])\n",
    "cm_logreg_base_os"
   ]
  },
  {
   "cell_type": "code",
   "execution_count": 53,
   "metadata": {},
   "outputs": [],
   "source": [
    "tp_logreg_os = cm_logreg_base_os['Pred 1'][0]\n",
    "tn_logreg_os = cm_logreg_base_os['Pred 0'][1]\n",
    "\n",
    "fp_logreg_os = cm_logreg_base_os['Pred 1'][1]\n",
    "fn_logreg_os = cm_logreg_base_os['Pred 0'][0]"
   ]
  },
  {
   "cell_type": "markdown",
   "metadata": {
    "id": "WNYSXEepyvNr"
   },
   "source": [
    "#### Smote Sampling without Scaling"
   ]
  },
  {
   "cell_type": "code",
   "execution_count": 54,
   "metadata": {
    "id": "6-xViluxy2S6"
   },
   "outputs": [],
   "source": [
    "logreg.fit(x_train_sm, y_train_sm)\n",
    "\n",
    "pred_train_sm = logreg.predict(x_train_sm)\n",
    "pred_test_sm = logreg.predict(x_test)"
   ]
  },
  {
   "cell_type": "code",
   "execution_count": 55,
   "metadata": {
    "id": "s388Zy4azKFy"
   },
   "outputs": [],
   "source": [
    "logreg_acc_base_train_sm = accuracy_score(y_train_sm, pred_train_sm)\n",
    "logreg_acc_base_test_sm = accuracy_score(y_test, pred_test_sm)\n",
    "\n",
    "logreg_recall_base_train_sm = recall_score(y_train_sm, pred_train_sm)\n",
    "logreg_recall_base_test_sm = recall_score(y_test, pred_test_sm)\n",
    "\n",
    "logreg_prec_base_train_sm = precision_score(y_train_sm, pred_train_sm)\n",
    "logreg_prec_base_test_sm = precision_score(y_test, pred_test_sm)\n",
    "\n",
    "logreg_f1_base_train_sm = f1_score(y_train_sm, pred_train_sm)\n",
    "logreg_f1_base_test_sm = f1_score(y_test, pred_test_sm)"
   ]
  },
  {
   "cell_type": "code",
   "execution_count": 56,
   "metadata": {
    "colab": {
     "base_uri": "https://localhost:8080/",
     "height": 110
    },
    "id": "xOSZ3pqQzVtU",
    "outputId": "bce6b216-511b-4ea3-8d34-7be6a872b649"
   },
   "outputs": [
    {
     "data": {
      "text/html": [
       "<div>\n",
       "<style scoped>\n",
       "    .dataframe tbody tr th:only-of-type {\n",
       "        vertical-align: middle;\n",
       "    }\n",
       "\n",
       "    .dataframe tbody tr th {\n",
       "        vertical-align: top;\n",
       "    }\n",
       "\n",
       "    .dataframe thead th {\n",
       "        text-align: right;\n",
       "    }\n",
       "</style>\n",
       "<table border=\"1\" class=\"dataframe\">\n",
       "  <thead>\n",
       "    <tr style=\"text-align: right;\">\n",
       "      <th></th>\n",
       "      <th>Pred 1</th>\n",
       "      <th>Pred 0</th>\n",
       "    </tr>\n",
       "  </thead>\n",
       "  <tbody>\n",
       "    <tr>\n",
       "      <th>Akt 1</th>\n",
       "      <td>135</td>\n",
       "      <td>125</td>\n",
       "    </tr>\n",
       "    <tr>\n",
       "      <th>Akt 0</th>\n",
       "      <td>745</td>\n",
       "      <td>804</td>\n",
       "    </tr>\n",
       "  </tbody>\n",
       "</table>\n",
       "</div>"
      ],
      "text/plain": [
       "       Pred 1  Pred 0\n",
       "Akt 1     135     125\n",
       "Akt 0     745     804"
      ]
     },
     "execution_count": 56,
     "metadata": {},
     "output_type": "execute_result"
    }
   ],
   "source": [
    "cm_logreg_base_sm = confusion_matrix(y_test, pred_test_sm, labels=[1, 0])\n",
    "\n",
    "cm_logreg_base_sm = pd.DataFrame(data=cm_logreg_base_sm, index=['Akt 1', 'Akt 0'], columns=['Pred 1', 'Pred 0'])\n",
    "cm_logreg_base_sm"
   ]
  },
  {
   "cell_type": "code",
   "execution_count": 57,
   "metadata": {},
   "outputs": [],
   "source": [
    "tp_logreg_sm = cm_logreg_base_sm['Pred 1'][0]\n",
    "tn_logreg_sm = cm_logreg_base_sm['Pred 0'][1]\n",
    "\n",
    "fp_logreg_sm = cm_logreg_base_sm['Pred 1'][1]\n",
    "fn_logreg_sm = cm_logreg_base_sm['Pred 0'][0]"
   ]
  },
  {
   "cell_type": "markdown",
   "metadata": {
    "id": "7vKA3SRyIGZG"
   },
   "source": [
    "#### Standard Scaling with Random Over Sampling"
   ]
  },
  {
   "cell_type": "code",
   "execution_count": 58,
   "metadata": {
    "id": "MI5S9M17GiZL"
   },
   "outputs": [],
   "source": [
    "std_scale = StandardScaler()\n",
    "\n",
    "x_train_os[columns_continuous] = std_scale.fit_transform(x_train_os[columns_continuous])\n",
    "logreg.fit(x_train_os, y_train_os)\n",
    "\n",
    "pred_train_os_std = logreg.predict(x_train_os)\n",
    "x_test[columns_continuous] = std_scale.fit_transform(x_test[columns_continuous])\n",
    "pred_test_os_std = logreg.predict(x_test)"
   ]
  },
  {
   "cell_type": "code",
   "execution_count": 59,
   "metadata": {
    "id": "e0IlJnw8Yp6f"
   },
   "outputs": [],
   "source": [
    "logreg_acc_base_train_os_std = accuracy_score(y_train_os, pred_train_os_std)\n",
    "logreg_acc_base_test_os_std = accuracy_score(y_test, pred_test_os_std)\n",
    "\n",
    "logreg_recall_base_train_os_std = recall_score(y_train_os, pred_train_os_std)\n",
    "logreg_recall_base_test_os_std = recall_score(y_test, pred_test_os_std)\n",
    "\n",
    "logreg_prec_base_train_os_std = precision_score(y_train_os, pred_train_os_std)\n",
    "logreg_prec_base_test_os_std = precision_score(y_test, pred_test_os_std)\n",
    "\n",
    "logreg_f1_base_train_os_std = f1_score(y_train_os, pred_train_os_std)\n",
    "logreg_f1_base_test_os_std = f1_score(y_test, pred_test_os_std)"
   ]
  },
  {
   "cell_type": "code",
   "execution_count": 60,
   "metadata": {
    "colab": {
     "base_uri": "https://localhost:8080/",
     "height": 110
    },
    "id": "QzD8vKCwamHC",
    "outputId": "9cffc245-cc4c-4c58-de7e-622b665c5d58"
   },
   "outputs": [
    {
     "data": {
      "text/html": [
       "<div>\n",
       "<style scoped>\n",
       "    .dataframe tbody tr th:only-of-type {\n",
       "        vertical-align: middle;\n",
       "    }\n",
       "\n",
       "    .dataframe tbody tr th {\n",
       "        vertical-align: top;\n",
       "    }\n",
       "\n",
       "    .dataframe thead th {\n",
       "        text-align: right;\n",
       "    }\n",
       "</style>\n",
       "<table border=\"1\" class=\"dataframe\">\n",
       "  <thead>\n",
       "    <tr style=\"text-align: right;\">\n",
       "      <th></th>\n",
       "      <th>Pred 1</th>\n",
       "      <th>Pred 0</th>\n",
       "    </tr>\n",
       "  </thead>\n",
       "  <tbody>\n",
       "    <tr>\n",
       "      <th>Akt 1</th>\n",
       "      <td>194</td>\n",
       "      <td>66</td>\n",
       "    </tr>\n",
       "    <tr>\n",
       "      <th>Akt 0</th>\n",
       "      <td>458</td>\n",
       "      <td>1091</td>\n",
       "    </tr>\n",
       "  </tbody>\n",
       "</table>\n",
       "</div>"
      ],
      "text/plain": [
       "       Pred 1  Pred 0\n",
       "Akt 1     194      66\n",
       "Akt 0     458    1091"
      ]
     },
     "execution_count": 60,
     "metadata": {},
     "output_type": "execute_result"
    }
   ],
   "source": [
    "cm_logreg_base_os_std = confusion_matrix(y_test, pred_test_os_std, labels=[1, 0])\n",
    "\n",
    "cm_logreg_base_os_std = pd.DataFrame(data=cm_logreg_base_os_std, index=['Akt 1', 'Akt 0'], columns=['Pred 1', 'Pred 0'])\n",
    "cm_logreg_base_os_std"
   ]
  },
  {
   "cell_type": "code",
   "execution_count": 61,
   "metadata": {},
   "outputs": [],
   "source": [
    "tp_logreg_os_std = cm_logreg_base_os_std['Pred 1'][0]\n",
    "tn_logreg_os_std = cm_logreg_base_os_std['Pred 0'][1]\n",
    "\n",
    "fp_logreg_os_std = cm_logreg_base_os_std['Pred 1'][1]\n",
    "fn_logreg_os_std = cm_logreg_base_os_std['Pred 0'][0]"
   ]
  },
  {
   "cell_type": "markdown",
   "metadata": {
    "id": "Ypip9bAwnOyx"
   },
   "source": [
    "#### MinMax Scaling with Random Over Sampling"
   ]
  },
  {
   "cell_type": "code",
   "execution_count": 62,
   "metadata": {
    "id": "5leyNV5Tldxq"
   },
   "outputs": [],
   "source": [
    "mm_scale = MinMaxScaler()\n",
    "\n",
    "x_train_os[columns_continuous] = mm_scale.fit_transform(x_train_os[columns_continuous])\n",
    "logreg.fit(x_train_os, y_train_os)\n",
    "\n",
    "pred_train_os_mm = logreg.predict(x_train_os)\n",
    "x_test[columns_continuous] = mm_scale.fit_transform(x_test[columns_continuous])\n",
    "pred_test_os_mm = logreg.predict(x_test)"
   ]
  },
  {
   "cell_type": "code",
   "execution_count": 63,
   "metadata": {
    "id": "M_TThASbnqBI"
   },
   "outputs": [],
   "source": [
    "logreg_acc_base_train_os_mm = accuracy_score(y_train_os, pred_train_os_mm)\n",
    "logreg_acc_base_test_os_mm = accuracy_score(y_test, pred_test_os_mm)\n",
    "\n",
    "logreg_recall_base_train_os_mm = recall_score(y_train_os, pred_train_os_mm)\n",
    "logreg_recall_base_test_os_mm = recall_score(y_test, pred_test_os_mm)\n",
    "\n",
    "logreg_prec_base_train_os_mm = precision_score(y_train_os, pred_train_os_mm)\n",
    "logreg_prec_base_test_os_mm = precision_score(y_test, pred_test_os_mm)\n",
    "\n",
    "logreg_f1_base_train_os_mm = f1_score(y_train_os, pred_train_os_mm)\n",
    "logreg_f1_base_test_os_mm = f1_score(y_test, pred_test_os_mm)"
   ]
  },
  {
   "cell_type": "code",
   "execution_count": 64,
   "metadata": {
    "colab": {
     "base_uri": "https://localhost:8080/",
     "height": 110
    },
    "id": "FDXaeQzVoH_Q",
    "outputId": "6ea2361c-3f0a-4cb6-dafc-fd27ebdcd0c4"
   },
   "outputs": [
    {
     "data": {
      "text/html": [
       "<div>\n",
       "<style scoped>\n",
       "    .dataframe tbody tr th:only-of-type {\n",
       "        vertical-align: middle;\n",
       "    }\n",
       "\n",
       "    .dataframe tbody tr th {\n",
       "        vertical-align: top;\n",
       "    }\n",
       "\n",
       "    .dataframe thead th {\n",
       "        text-align: right;\n",
       "    }\n",
       "</style>\n",
       "<table border=\"1\" class=\"dataframe\">\n",
       "  <thead>\n",
       "    <tr style=\"text-align: right;\">\n",
       "      <th></th>\n",
       "      <th>Pred 1</th>\n",
       "      <th>Pred 0</th>\n",
       "    </tr>\n",
       "  </thead>\n",
       "  <tbody>\n",
       "    <tr>\n",
       "      <th>Akt 1</th>\n",
       "      <td>184</td>\n",
       "      <td>76</td>\n",
       "    </tr>\n",
       "    <tr>\n",
       "      <th>Akt 0</th>\n",
       "      <td>425</td>\n",
       "      <td>1124</td>\n",
       "    </tr>\n",
       "  </tbody>\n",
       "</table>\n",
       "</div>"
      ],
      "text/plain": [
       "       Pred 1  Pred 0\n",
       "Akt 1     184      76\n",
       "Akt 0     425    1124"
      ]
     },
     "execution_count": 64,
     "metadata": {},
     "output_type": "execute_result"
    }
   ],
   "source": [
    "cm_logreg_base_os_mm = confusion_matrix(y_test, pred_test_os_mm, labels=[1, 0])\n",
    "\n",
    "cm_logreg_base_os_mm = pd.DataFrame(data=cm_logreg_base_os_mm, index=['Akt 1', 'Akt 0'], columns=['Pred 1', 'Pred 0'])\n",
    "cm_logreg_base_os_mm"
   ]
  },
  {
   "cell_type": "code",
   "execution_count": 65,
   "metadata": {},
   "outputs": [],
   "source": [
    "tp_logreg_os_mm = cm_logreg_base_os_mm['Pred 1'][0]\n",
    "tn_logreg_os_mm = cm_logreg_base_os_mm['Pred 0'][1]\n",
    "\n",
    "fp_logreg_os_mm = cm_logreg_base_os_mm['Pred 1'][1]\n",
    "fn_logreg_os_mm = cm_logreg_base_os_mm['Pred 0'][0]"
   ]
  },
  {
   "cell_type": "markdown",
   "metadata": {
    "id": "TfM9k0MWoebl"
   },
   "source": [
    "#### Robust Scaling with Random Over Sampling"
   ]
  },
  {
   "cell_type": "code",
   "execution_count": 66,
   "metadata": {
    "id": "dYdYjFDsoast"
   },
   "outputs": [],
   "source": [
    "rb_scale = RobustScaler()\n",
    "\n",
    "x_train_os[columns_continuous] = rb_scale.fit_transform(x_train_os[columns_continuous])\n",
    "logreg.fit(x_train_os, y_train_os)\n",
    "\n",
    "pred_train_os_rb = logreg.predict(x_train_os)\n",
    "x_test[columns_continuous] = rb_scale.fit_transform(x_test[columns_continuous])\n",
    "pred_test_os_rb = logreg.predict(x_test)"
   ]
  },
  {
   "cell_type": "code",
   "execution_count": 67,
   "metadata": {
    "id": "9aCDdeXxow4n"
   },
   "outputs": [],
   "source": [
    "logreg_acc_base_train_os_rb = accuracy_score(y_train_os, pred_train_os_rb)\n",
    "logreg_acc_base_test_os_rb = accuracy_score(y_test, pred_test_os_rb)\n",
    "\n",
    "logreg_recall_base_train_os_rb = recall_score(y_train_os, pred_train_os_rb)\n",
    "logreg_recall_base_test_os_rb = recall_score(y_test, pred_test_os_rb)\n",
    "\n",
    "logreg_prec_base_train_os_rb = precision_score(y_train_os, pred_train_os_rb)\n",
    "logreg_prec_base_test_os_rb = precision_score(y_test, pred_test_os_rb)\n",
    "\n",
    "logreg_f1_base_train_os_rb = f1_score(y_train_os, pred_train_os_rb)\n",
    "logreg_f1_base_test_os_rb = f1_score(y_test, pred_test_os_rb)"
   ]
  },
  {
   "cell_type": "code",
   "execution_count": 68,
   "metadata": {
    "colab": {
     "base_uri": "https://localhost:8080/",
     "height": 110
    },
    "id": "VjJEx91uo8C9",
    "outputId": "32d0835b-02a9-40e4-874e-2d6d32399d0e"
   },
   "outputs": [
    {
     "data": {
      "text/html": [
       "<div>\n",
       "<style scoped>\n",
       "    .dataframe tbody tr th:only-of-type {\n",
       "        vertical-align: middle;\n",
       "    }\n",
       "\n",
       "    .dataframe tbody tr th {\n",
       "        vertical-align: top;\n",
       "    }\n",
       "\n",
       "    .dataframe thead th {\n",
       "        text-align: right;\n",
       "    }\n",
       "</style>\n",
       "<table border=\"1\" class=\"dataframe\">\n",
       "  <thead>\n",
       "    <tr style=\"text-align: right;\">\n",
       "      <th></th>\n",
       "      <th>Pred 1</th>\n",
       "      <th>Pred 0</th>\n",
       "    </tr>\n",
       "  </thead>\n",
       "  <tbody>\n",
       "    <tr>\n",
       "      <th>Akt 1</th>\n",
       "      <td>191</td>\n",
       "      <td>69</td>\n",
       "    </tr>\n",
       "    <tr>\n",
       "      <th>Akt 0</th>\n",
       "      <td>454</td>\n",
       "      <td>1095</td>\n",
       "    </tr>\n",
       "  </tbody>\n",
       "</table>\n",
       "</div>"
      ],
      "text/plain": [
       "       Pred 1  Pred 0\n",
       "Akt 1     191      69\n",
       "Akt 0     454    1095"
      ]
     },
     "execution_count": 68,
     "metadata": {},
     "output_type": "execute_result"
    }
   ],
   "source": [
    "cm_logreg_base_os_rb = confusion_matrix(y_test, pred_test_os_rb, labels=[1, 0])\n",
    "\n",
    "cm_logreg_base_os_rb = pd.DataFrame(data=cm_logreg_base_os_rb, index=['Akt 1', 'Akt 0'], columns=['Pred 1', 'Pred 0'])\n",
    "cm_logreg_base_os_rb"
   ]
  },
  {
   "cell_type": "code",
   "execution_count": 69,
   "metadata": {},
   "outputs": [],
   "source": [
    "tp_logreg_os_rb = cm_logreg_base_os_rb['Pred 1'][0]\n",
    "tn_logreg_os_rb = cm_logreg_base_os_rb['Pred 0'][1]\n",
    "\n",
    "fp_logreg_os_rb = cm_logreg_base_os_rb['Pred 1'][1]\n",
    "fn_logreg_os_rb = cm_logreg_base_os_rb['Pred 0'][0]"
   ]
  },
  {
   "cell_type": "markdown",
   "metadata": {
    "id": "-vEeoct9sjm6"
   },
   "source": [
    "#### Standard Scaling with Smote"
   ]
  },
  {
   "cell_type": "code",
   "execution_count": 70,
   "metadata": {
    "id": "E-ih8kpxq1Xw"
   },
   "outputs": [],
   "source": [
    "x[columns_continuous] = std_scale.fit_transform(x[columns_continuous])\n",
    "logreg.fit(x_train_sm, y_train_sm)\n",
    "\n",
    "pred_train_sm_std = logreg.predict(x_train_sm)\n",
    "x_test[columns_continuous] = std_scale.fit_transform(x_test[columns_continuous])\n",
    "pred_test_sm_std = logreg.predict(x_test)"
   ]
  },
  {
   "cell_type": "code",
   "execution_count": 71,
   "metadata": {
    "id": "aW8itP9vtIDu"
   },
   "outputs": [],
   "source": [
    "logreg_acc_base_train_sm_std = accuracy_score(y_train_sm, pred_train_sm_std)\n",
    "logreg_acc_base_test_sm_std = accuracy_score(y_test, pred_test_sm_std)\n",
    "\n",
    "logreg_recall_base_train_sm_std = recall_score(y_train_sm, pred_train_sm_std)\n",
    "logreg_recall_base_test_sm_std = recall_score(y_test, pred_test_sm_std)\n",
    "\n",
    "logreg_prec_base_train_sm_std = precision_score(y_train_sm, pred_train_sm_std)\n",
    "logreg_prec_base_test_sm_std = precision_score(y_test, pred_test_sm_std)\n",
    "\n",
    "logreg_f1_base_train_sm_std = f1_score(y_train_sm, pred_train_sm_std)\n",
    "logreg_f1_base_test_sm_std = f1_score(y_test, pred_test_sm_std)"
   ]
  },
  {
   "cell_type": "code",
   "execution_count": 72,
   "metadata": {
    "colab": {
     "base_uri": "https://localhost:8080/",
     "height": 110
    },
    "id": "fS7nTf7_tbtJ",
    "outputId": "6d48d119-418a-4689-883e-d963698815c9"
   },
   "outputs": [
    {
     "data": {
      "text/html": [
       "<div>\n",
       "<style scoped>\n",
       "    .dataframe tbody tr th:only-of-type {\n",
       "        vertical-align: middle;\n",
       "    }\n",
       "\n",
       "    .dataframe tbody tr th {\n",
       "        vertical-align: top;\n",
       "    }\n",
       "\n",
       "    .dataframe thead th {\n",
       "        text-align: right;\n",
       "    }\n",
       "</style>\n",
       "<table border=\"1\" class=\"dataframe\">\n",
       "  <thead>\n",
       "    <tr style=\"text-align: right;\">\n",
       "      <th></th>\n",
       "      <th>Pred 1</th>\n",
       "      <th>Pred 0</th>\n",
       "    </tr>\n",
       "  </thead>\n",
       "  <tbody>\n",
       "    <tr>\n",
       "      <th>Akt 1</th>\n",
       "      <td>109</td>\n",
       "      <td>151</td>\n",
       "    </tr>\n",
       "    <tr>\n",
       "      <th>Akt 0</th>\n",
       "      <td>614</td>\n",
       "      <td>935</td>\n",
       "    </tr>\n",
       "  </tbody>\n",
       "</table>\n",
       "</div>"
      ],
      "text/plain": [
       "       Pred 1  Pred 0\n",
       "Akt 1     109     151\n",
       "Akt 0     614     935"
      ]
     },
     "execution_count": 72,
     "metadata": {},
     "output_type": "execute_result"
    }
   ],
   "source": [
    "cm_logreg_base_sm_std = confusion_matrix(y_test, pred_test_sm_std, labels=[1, 0])\n",
    "\n",
    "cm_logreg_base_sm_std = pd.DataFrame(data=cm_logreg_base_sm_std, index=['Akt 1', 'Akt 0'], columns=['Pred 1', 'Pred 0'])\n",
    "cm_logreg_base_sm_std"
   ]
  },
  {
   "cell_type": "code",
   "execution_count": 73,
   "metadata": {},
   "outputs": [],
   "source": [
    "tp_logreg_sm_std = cm_logreg_base_sm_std['Pred 1'][0]\n",
    "tn_logreg_sm_std = cm_logreg_base_sm_std['Pred 0'][1]\n",
    "\n",
    "fp_logreg_sm_std = cm_logreg_base_sm_std['Pred 1'][1]\n",
    "fn_logreg_sm_std = cm_logreg_base_sm_std['Pred 0'][0]"
   ]
  },
  {
   "cell_type": "markdown",
   "metadata": {
    "id": "GTH6hxRptxmr"
   },
   "source": [
    "#### MinMax Scaling with Smote"
   ]
  },
  {
   "cell_type": "code",
   "execution_count": 74,
   "metadata": {
    "id": "cJb_jJOktkgT"
   },
   "outputs": [],
   "source": [
    "mm_scale = MinMaxScaler()\n",
    "\n",
    "x[columns_continuous] = mm_scale.fit_transform(x[columns_continuous])\n",
    "logreg.fit(x_train_sm, y_train_sm)\n",
    "\n",
    "pred_train_sm_mm = logreg.predict(x_train_sm)\n",
    "x_test[columns_continuous] = mm_scale.fit_transform(x_test[columns_continuous])\n",
    "pred_test_sm_mm = logreg.predict(x_test)"
   ]
  },
  {
   "cell_type": "code",
   "execution_count": 75,
   "metadata": {
    "id": "4RFEOT6NuBhv"
   },
   "outputs": [],
   "source": [
    "logreg_acc_base_train_sm_mm = accuracy_score(y_train_sm, pred_train_sm_mm)\n",
    "logreg_acc_base_test_sm_mm = accuracy_score(y_test, pred_test_sm_mm)\n",
    "\n",
    "logreg_recall_base_train_sm_mm = recall_score(y_train_sm, pred_train_sm_mm)\n",
    "logreg_recall_base_test_sm_mm = recall_score(y_test, pred_test_sm_mm)\n",
    "\n",
    "logreg_prec_base_train_sm_mm = precision_score(y_train_sm, pred_train_sm_mm)\n",
    "logreg_prec_base_test_sm_mm = precision_score(y_test, pred_test_sm_mm)\n",
    "\n",
    "logreg_f1_base_train_sm_mm = f1_score(y_train_sm, pred_train_sm_mm)\n",
    "logreg_f1_base_test_sm_mm = f1_score(y_test, pred_test_sm_mm)"
   ]
  },
  {
   "cell_type": "code",
   "execution_count": 76,
   "metadata": {
    "colab": {
     "base_uri": "https://localhost:8080/",
     "height": 110
    },
    "id": "3e9hYPkYub6W",
    "outputId": "8bd53708-3e33-40e1-a2a3-cdcb82836edc"
   },
   "outputs": [
    {
     "data": {
      "text/html": [
       "<div>\n",
       "<style scoped>\n",
       "    .dataframe tbody tr th:only-of-type {\n",
       "        vertical-align: middle;\n",
       "    }\n",
       "\n",
       "    .dataframe tbody tr th {\n",
       "        vertical-align: top;\n",
       "    }\n",
       "\n",
       "    .dataframe thead th {\n",
       "        text-align: right;\n",
       "    }\n",
       "</style>\n",
       "<table border=\"1\" class=\"dataframe\">\n",
       "  <thead>\n",
       "    <tr style=\"text-align: right;\">\n",
       "      <th></th>\n",
       "      <th>Pred 1</th>\n",
       "      <th>Pred 0</th>\n",
       "    </tr>\n",
       "  </thead>\n",
       "  <tbody>\n",
       "    <tr>\n",
       "      <th>Akt 1</th>\n",
       "      <td>257</td>\n",
       "      <td>3</td>\n",
       "    </tr>\n",
       "    <tr>\n",
       "      <th>Akt 0</th>\n",
       "      <td>1478</td>\n",
       "      <td>71</td>\n",
       "    </tr>\n",
       "  </tbody>\n",
       "</table>\n",
       "</div>"
      ],
      "text/plain": [
       "       Pred 1  Pred 0\n",
       "Akt 1     257       3\n",
       "Akt 0    1478      71"
      ]
     },
     "execution_count": 76,
     "metadata": {},
     "output_type": "execute_result"
    }
   ],
   "source": [
    "cm_logreg_base_sm_mm = confusion_matrix(y_test, pred_test_sm_mm, labels=[1, 0])\n",
    "\n",
    "cm_logreg_base_sm_mm = pd.DataFrame(data=cm_logreg_base_sm_mm, index=['Akt 1', 'Akt 0'], columns=['Pred 1', 'Pred 0'])\n",
    "cm_logreg_base_sm_mm"
   ]
  },
  {
   "cell_type": "code",
   "execution_count": 77,
   "metadata": {},
   "outputs": [],
   "source": [
    "tp_logreg_sm_mm = cm_logreg_base_sm_mm['Pred 1'][0]\n",
    "tn_logreg_sm_mm = cm_logreg_base_sm_mm['Pred 0'][1]\n",
    "\n",
    "fp_logreg_sm_mm = cm_logreg_base_sm_mm['Pred 1'][1]\n",
    "fn_logreg_sm_mm = cm_logreg_base_sm_mm['Pred 0'][0]"
   ]
  },
  {
   "cell_type": "markdown",
   "metadata": {
    "id": "5db8l9RXu0xf"
   },
   "source": [
    "#### Robust Scaling with Smote"
   ]
  },
  {
   "cell_type": "code",
   "execution_count": 78,
   "metadata": {
    "id": "7TUz3cbrujOy"
   },
   "outputs": [],
   "source": [
    "rb_scale = RobustScaler()\n",
    "\n",
    "x[columns_continuous] = rb_scale.fit_transform(x[columns_continuous])\n",
    "logreg.fit(x_train_sm, y_train_sm)\n",
    "\n",
    "pred_train_sm_rb = logreg.predict(x_train_sm)\n",
    "x_test[columns_continuous] = rb_scale.fit_transform(x_test[columns_continuous])\n",
    "pred_test_sm_rb = logreg.predict(x_test)"
   ]
  },
  {
   "cell_type": "code",
   "execution_count": 79,
   "metadata": {
    "id": "YFFI65T9vEP1"
   },
   "outputs": [],
   "source": [
    "logreg_acc_base_train_sm_rb = accuracy_score(y_train_sm, pred_train_sm_rb)\n",
    "logreg_acc_base_test_sm_rb = accuracy_score(y_test, pred_test_sm_rb)\n",
    "\n",
    "logreg_recall_base_train_sm_rb = recall_score(y_train_sm, pred_train_sm_rb)\n",
    "logreg_recall_base_test_sm_rb = recall_score(y_test, pred_test_sm_rb)\n",
    "\n",
    "logreg_prec_base_train_sm_rb = precision_score(y_train_sm, pred_train_sm_rb)\n",
    "logreg_prec_base_test_sm_rb = precision_score(y_test, pred_test_sm_rb)\n",
    "\n",
    "logreg_f1_base_train_sm_rb = f1_score(y_train_sm, pred_train_sm_rb)\n",
    "logreg_f1_base_test_sm_rb = f1_score(y_test, pred_test_sm_rb)"
   ]
  },
  {
   "cell_type": "code",
   "execution_count": 80,
   "metadata": {
    "colab": {
     "base_uri": "https://localhost:8080/",
     "height": 110
    },
    "id": "p5W8n4ejvY1U",
    "outputId": "aa86b1ae-4ed5-436e-b6f1-40f2798f1040"
   },
   "outputs": [
    {
     "data": {
      "text/html": [
       "<div>\n",
       "<style scoped>\n",
       "    .dataframe tbody tr th:only-of-type {\n",
       "        vertical-align: middle;\n",
       "    }\n",
       "\n",
       "    .dataframe tbody tr th {\n",
       "        vertical-align: top;\n",
       "    }\n",
       "\n",
       "    .dataframe thead th {\n",
       "        text-align: right;\n",
       "    }\n",
       "</style>\n",
       "<table border=\"1\" class=\"dataframe\">\n",
       "  <thead>\n",
       "    <tr style=\"text-align: right;\">\n",
       "      <th></th>\n",
       "      <th>Pred 1</th>\n",
       "      <th>Pred 0</th>\n",
       "    </tr>\n",
       "  </thead>\n",
       "  <tbody>\n",
       "    <tr>\n",
       "      <th>Akt 1</th>\n",
       "      <td>135</td>\n",
       "      <td>125</td>\n",
       "    </tr>\n",
       "    <tr>\n",
       "      <th>Akt 0</th>\n",
       "      <td>745</td>\n",
       "      <td>804</td>\n",
       "    </tr>\n",
       "  </tbody>\n",
       "</table>\n",
       "</div>"
      ],
      "text/plain": [
       "       Pred 1  Pred 0\n",
       "Akt 1     135     125\n",
       "Akt 0     745     804"
      ]
     },
     "execution_count": 80,
     "metadata": {},
     "output_type": "execute_result"
    }
   ],
   "source": [
    "cm_logreg_base_sm_rb = confusion_matrix(y_test, pred_test_sm_rb, labels=[1, 0])\n",
    "\n",
    "cm_logreg_base_sm_rb = pd.DataFrame(data=cm_logreg_base_sm_rb, index=['Akt 1', 'Akt 0'], columns=['Pred 1', 'Pred 0'])\n",
    "cm_logreg_base_sm_rb"
   ]
  },
  {
   "cell_type": "code",
   "execution_count": 81,
   "metadata": {},
   "outputs": [],
   "source": [
    "tp_logreg_sm_rb = cm_logreg_base_sm_rb['Pred 1'][0]\n",
    "tn_logreg_sm_rb = cm_logreg_base_sm_rb['Pred 0'][1]\n",
    "\n",
    "fp_logreg_sm_rb = cm_logreg_base_sm_rb['Pred 1'][1]\n",
    "fn_logreg_sm_rb = cm_logreg_base_sm_rb['Pred 0'][0]"
   ]
  },
  {
   "cell_type": "markdown",
   "metadata": {
    "id": "3h5MNZXa2u_4"
   },
   "source": [
    "### Evaluation For SVM and Logistic Regression"
   ]
  },
  {
   "cell_type": "code",
   "execution_count": 82,
   "metadata": {
    "id": "yjRXgKyI224M"
   },
   "outputs": [],
   "source": [
    "distance_base = {\n",
    "    \"SVM_OS_Train\": [svm_acc_base_train_os, svm_recall_base_train_os, svm_prec_base_train_os, svm_f1_base_train_os],\n",
    "    \"SVM_OS_Test\" : [svm_acc_base_test_os, svm_recall_base_test_os, svm_prec_base_test_os, svm_f1_base_test_os],\n",
    "    \n",
    "    \"SVM_SM_Train\": [svm_acc_base_train_sm, svm_recall_base_train_sm, svm_prec_base_train_sm, svm_f1_base_train_sm],\n",
    "    \"SVM_SM_Test\" : [svm_acc_base_test_sm, svm_recall_base_test_sm, svm_prec_base_test_sm, svm_f1_base_test_sm],\n",
    "    \n",
    "    \"Logreg_OS_Train\": [logreg_acc_base_train_os, logreg_recall_base_train_os, logreg_prec_base_train_os, logreg_f1_base_train_os],\n",
    "    \"Logreg_OS_Test\" : [logreg_acc_base_test_os, logreg_recall_base_test_os, logreg_prec_base_test_os, logreg_f1_base_test_os],\n",
    "    \n",
    "    \"Logreg_SM_Train\": [logreg_acc_base_train_sm, logreg_recall_base_train_sm, logreg_prec_base_train_sm, logreg_f1_base_train_sm],\n",
    "    \"Logreg_SM_Test\" : [logreg_acc_base_test_sm, logreg_recall_base_test_sm, logreg_prec_base_test_sm, logreg_f1_base_test_sm]\n",
    "    }\n",
    "base_matrix = pd.DataFrame(data = distance_base, index = ['Accuracy', 'Recall', 'Precision', 'F1 Score'])\n",
    "\n",
    "\n",
    "dictance_base_os = {\n",
    "    \"SVM Standard_OS_Train\": [svm_acc_base_train_os_std, svm_recall_base_train_os_std, svm_prec_base_train_os_std, svm_f1_base_train_os_std],\n",
    "    \"SVM Standard_OS_Test\" : [svm_acc_base_test_os_std, svm_recall_base_test_os_std, svm_prec_base_test_os_std, svm_f1_base_test_os_std],\n",
    "    \n",
    "    \"SVM MinMax_OS_Train\": [svm_acc_base_train_os_mm, svm_recall_base_train_os_mm, svm_prec_base_train_os_mm, svm_f1_base_train_os_mm],\n",
    "    \"SVM MinMax_OS_Test\" : [svm_acc_base_test_os_mm, svm_recall_base_test_os_mm, svm_prec_base_test_os_mm, svm_f1_base_test_os_mm],\n",
    "    \n",
    "    \"SVM Robust_OS_Train\": [svm_acc_base_train_os_rb, svm_recall_base_train_os_rb, svm_prec_base_train_os_rb, svm_f1_base_train_os_rb],\n",
    "    \"SVM Robust_OS_Test\" : [svm_acc_base_test_os_rb, svm_recall_base_test_os_rb, svm_prec_base_test_os_rb, svm_f1_base_test_os_rb],\n",
    "    \n",
    "    \"Logreg Standard_OS_Train\": [logreg_acc_base_train_os_std, logreg_recall_base_train_os_std, logreg_prec_base_train_os_std, logreg_f1_base_train_os_std],\n",
    "    \"Logreg Standard_OS_Test\" : [logreg_acc_base_test_os_std, logreg_recall_base_test_os_std, logreg_prec_base_test_os_std, logreg_f1_base_test_os_std],\n",
    "    \n",
    "    \"Logreg MinMax_OS_Train\": [logreg_acc_base_train_os_mm, logreg_recall_base_train_os_mm, logreg_prec_base_train_os_mm, logreg_f1_base_train_os_mm],\n",
    "    \"Logreg MinMax_OS_Test\" : [logreg_acc_base_test_os_mm, logreg_recall_base_test_os_mm, logreg_prec_base_test_os_mm, logreg_f1_base_test_os_mm],\n",
    "    \n",
    "    \"Logreg Robust_OS_Train\": [logreg_acc_base_train_os_rb, logreg_recall_base_train_os_rb, logreg_prec_base_train_os_rb, logreg_f1_base_train_os_rb],\n",
    "    \"Logreg Robust_OS_Test\" : [logreg_acc_base_test_os_rb, logreg_recall_base_test_os_rb, logreg_prec_base_test_os_rb, logreg_f1_base_test_os_rb]\n",
    "    }\n",
    "distance_base_os_matrix = pd.DataFrame(data = dictance_base_os, index = ['Accuracy', 'Recall', 'Precision', 'F1 Score'])\n",
    "\n",
    "\n",
    "distance_base_sm = {\n",
    "    \"SVM Standard_SM_Train\": [svm_acc_base_train_sm_std, svm_recall_base_train_sm_std, svm_prec_base_train_sm_std, svm_f1_base_train_sm_std],\n",
    "    \"SVM Standard_SM_Test\" : [svm_acc_base_test_sm_std, svm_recall_base_test_sm_std, svm_prec_base_test_sm_std, svm_f1_base_test_sm_std],\n",
    "    \n",
    "    \"SVM MinMax_SM_Train\": [svm_acc_base_train_sm_mm, svm_recall_base_train_sm_mm, svm_prec_base_train_sm_mm, svm_f1_base_train_sm_mm],\n",
    "    \"SVM MinMax_SM_Test\" : [svm_acc_base_test_sm_mm, svm_recall_base_test_sm_mm, svm_prec_base_test_sm_mm, svm_f1_base_test_sm_mm],\n",
    "    \n",
    "    \"SVM Robust_SM_Train\": [svm_acc_base_train_sm_rb, svm_recall_base_train_sm_rb, svm_prec_base_train_sm_rb, svm_f1_base_train_sm_rb],\n",
    "    \"SVM Robust_SM_Test\" : [svm_acc_base_test_sm_rb, svm_recall_base_test_sm_rb, svm_prec_base_test_sm_rb, svm_f1_base_test_sm_rb],\n",
    "    \n",
    "    \"Logreg Standard_SM_Train\": [logreg_acc_base_train_sm_std, logreg_recall_base_train_sm_std, logreg_prec_base_train_sm_std, logreg_f1_base_train_sm_std],\n",
    "    \"Logreg Standard_SM_Test\" : [logreg_acc_base_test_sm_std, logreg_recall_base_test_sm_std, logreg_prec_base_test_sm_std, logreg_f1_base_test_sm_std],\n",
    "    \n",
    "    \"Logreg MinMax_SM_Train\": [logreg_acc_base_train_sm_mm, logreg_recall_base_train_sm_mm, logreg_prec_base_train_sm_mm, logreg_f1_base_train_sm_mm],\n",
    "    \"Logreg MinMax_SM_Test\" : [logreg_acc_base_test_sm_mm, logreg_recall_base_test_sm_mm, logreg_prec_base_test_sm_mm, logreg_f1_base_test_sm_mm],\n",
    "    \n",
    "    \"Logreg Robust_SM_Train\": [logreg_acc_base_train_sm_rb, logreg_recall_base_train_sm_rb, logreg_prec_base_train_sm_rb, logreg_f1_base_train_sm_rb],\n",
    "    \"Logreg Robust_SM_Test\" : [logreg_acc_base_test_sm_rb, logreg_recall_base_test_sm_rb, logreg_prec_base_test_sm_rb, logreg_f1_base_test_sm_rb]\n",
    "    }\n",
    "distance_base_sm_matrix = pd.DataFrame(data = distance_base_sm, index = ['Accuracy', 'Recall', 'Precision', 'F1 Score'])"
   ]
  },
  {
   "cell_type": "code",
   "execution_count": 83,
   "metadata": {
    "colab": {
     "base_uri": "https://localhost:8080/",
     "height": 141
    },
    "id": "ddEppG_4vf7P",
    "outputId": "c8ffef20-b6f1-4ccc-b8dd-6f85bb8f4e22"
   },
   "outputs": [
    {
     "data": {
      "text/html": [
       "<div>\n",
       "<style scoped>\n",
       "    .dataframe tbody tr th:only-of-type {\n",
       "        vertical-align: middle;\n",
       "    }\n",
       "\n",
       "    .dataframe tbody tr th {\n",
       "        vertical-align: top;\n",
       "    }\n",
       "\n",
       "    .dataframe thead th {\n",
       "        text-align: right;\n",
       "    }\n",
       "</style>\n",
       "<table border=\"1\" class=\"dataframe\">\n",
       "  <thead>\n",
       "    <tr style=\"text-align: right;\">\n",
       "      <th></th>\n",
       "      <th>SVM_OS_Train</th>\n",
       "      <th>SVM_OS_Test</th>\n",
       "      <th>SVM_SM_Train</th>\n",
       "      <th>SVM_SM_Test</th>\n",
       "      <th>Logreg_OS_Train</th>\n",
       "      <th>Logreg_OS_Test</th>\n",
       "      <th>Logreg_SM_Train</th>\n",
       "      <th>Logreg_SM_Test</th>\n",
       "    </tr>\n",
       "  </thead>\n",
       "  <tbody>\n",
       "    <tr>\n",
       "      <th>Accuracy</th>\n",
       "      <td>0.578140</td>\n",
       "      <td>0.464898</td>\n",
       "      <td>0.581127</td>\n",
       "      <td>0.469873</td>\n",
       "      <td>0.742251</td>\n",
       "      <td>0.710890</td>\n",
       "      <td>0.520342</td>\n",
       "      <td>0.519071</td>\n",
       "    </tr>\n",
       "    <tr>\n",
       "      <th>Recall</th>\n",
       "      <td>0.734743</td>\n",
       "      <td>0.703846</td>\n",
       "      <td>0.731999</td>\n",
       "      <td>0.700000</td>\n",
       "      <td>0.783662</td>\n",
       "      <td>0.734615</td>\n",
       "      <td>0.781886</td>\n",
       "      <td>0.519231</td>\n",
       "    </tr>\n",
       "    <tr>\n",
       "      <th>Precision</th>\n",
       "      <td>0.559503</td>\n",
       "      <td>0.170391</td>\n",
       "      <td>0.562322</td>\n",
       "      <td>0.171214</td>\n",
       "      <td>0.723721</td>\n",
       "      <td>0.296124</td>\n",
       "      <td>0.513356</td>\n",
       "      <td>0.153409</td>\n",
       "    </tr>\n",
       "    <tr>\n",
       "      <th>F1 Score</th>\n",
       "      <td>0.635260</td>\n",
       "      <td>0.274363</td>\n",
       "      <td>0.636038</td>\n",
       "      <td>0.275132</td>\n",
       "      <td>0.752500</td>\n",
       "      <td>0.422099</td>\n",
       "      <td>0.619785</td>\n",
       "      <td>0.236842</td>\n",
       "    </tr>\n",
       "  </tbody>\n",
       "</table>\n",
       "</div>"
      ],
      "text/plain": [
       "           SVM_OS_Train  SVM_OS_Test  SVM_SM_Train  SVM_SM_Test  \\\n",
       "Accuracy       0.578140     0.464898      0.581127     0.469873   \n",
       "Recall         0.734743     0.703846      0.731999     0.700000   \n",
       "Precision      0.559503     0.170391      0.562322     0.171214   \n",
       "F1 Score       0.635260     0.274363      0.636038     0.275132   \n",
       "\n",
       "           Logreg_OS_Train  Logreg_OS_Test  Logreg_SM_Train  Logreg_SM_Test  \n",
       "Accuracy          0.742251        0.710890         0.520342        0.519071  \n",
       "Recall            0.783662        0.734615         0.781886        0.519231  \n",
       "Precision         0.723721        0.296124         0.513356        0.153409  \n",
       "F1 Score          0.752500        0.422099         0.619785        0.236842  "
      ]
     },
     "execution_count": 83,
     "metadata": {},
     "output_type": "execute_result"
    }
   ],
   "source": [
    "base_matrix"
   ]
  },
  {
   "cell_type": "code",
   "execution_count": 84,
   "metadata": {
    "colab": {
     "base_uri": "https://localhost:8080/",
     "height": 141
    },
    "id": "F1Cpf49Pvndf",
    "outputId": "3f194a08-2de0-4b84-abb4-3339f11ac008"
   },
   "outputs": [
    {
     "data": {
      "text/html": [
       "<div>\n",
       "<style scoped>\n",
       "    .dataframe tbody tr th:only-of-type {\n",
       "        vertical-align: middle;\n",
       "    }\n",
       "\n",
       "    .dataframe tbody tr th {\n",
       "        vertical-align: top;\n",
       "    }\n",
       "\n",
       "    .dataframe thead th {\n",
       "        text-align: right;\n",
       "    }\n",
       "</style>\n",
       "<table border=\"1\" class=\"dataframe\">\n",
       "  <thead>\n",
       "    <tr style=\"text-align: right;\">\n",
       "      <th></th>\n",
       "      <th>SVM Standard_OS_Train</th>\n",
       "      <th>SVM Standard_OS_Test</th>\n",
       "      <th>SVM MinMax_OS_Train</th>\n",
       "      <th>SVM MinMax_OS_Test</th>\n",
       "      <th>SVM Robust_OS_Train</th>\n",
       "      <th>SVM Robust_OS_Test</th>\n",
       "      <th>Logreg Standard_OS_Train</th>\n",
       "      <th>Logreg Standard_OS_Test</th>\n",
       "      <th>Logreg MinMax_OS_Train</th>\n",
       "      <th>Logreg MinMax_OS_Test</th>\n",
       "      <th>Logreg Robust_OS_Train</th>\n",
       "      <th>Logreg Robust_OS_Test</th>\n",
       "    </tr>\n",
       "  </thead>\n",
       "  <tbody>\n",
       "    <tr>\n",
       "      <th>Accuracy</th>\n",
       "      <td>0.938327</td>\n",
       "      <td>0.875622</td>\n",
       "      <td>0.920972</td>\n",
       "      <td>0.854063</td>\n",
       "      <td>0.936794</td>\n",
       "      <td>0.874516</td>\n",
       "      <td>0.741847</td>\n",
       "      <td>0.710337</td>\n",
       "      <td>0.743219</td>\n",
       "      <td>0.723051</td>\n",
       "      <td>0.742331</td>\n",
       "      <td>0.710890</td>\n",
       "    </tr>\n",
       "    <tr>\n",
       "      <th>Recall</th>\n",
       "      <td>0.982241</td>\n",
       "      <td>0.923077</td>\n",
       "      <td>0.973846</td>\n",
       "      <td>0.915385</td>\n",
       "      <td>0.980949</td>\n",
       "      <td>0.923077</td>\n",
       "      <td>0.782531</td>\n",
       "      <td>0.746154</td>\n",
       "      <td>0.785438</td>\n",
       "      <td>0.707692</td>\n",
       "      <td>0.783662</td>\n",
       "      <td>0.734615</td>\n",
       "    </tr>\n",
       "    <tr>\n",
       "      <th>Precision</th>\n",
       "      <td>0.902939</td>\n",
       "      <td>0.539326</td>\n",
       "      <td>0.880713</td>\n",
       "      <td>0.495833</td>\n",
       "      <td>0.901350</td>\n",
       "      <td>0.536913</td>\n",
       "      <td>0.723649</td>\n",
       "      <td>0.297546</td>\n",
       "      <td>0.724282</td>\n",
       "      <td>0.302135</td>\n",
       "      <td>0.723829</td>\n",
       "      <td>0.296124</td>\n",
       "    </tr>\n",
       "    <tr>\n",
       "      <th>F1 Score</th>\n",
       "      <td>0.940922</td>\n",
       "      <td>0.680851</td>\n",
       "      <td>0.924941</td>\n",
       "      <td>0.643243</td>\n",
       "      <td>0.939467</td>\n",
       "      <td>0.678925</td>\n",
       "      <td>0.751939</td>\n",
       "      <td>0.425439</td>\n",
       "      <td>0.753621</td>\n",
       "      <td>0.423475</td>\n",
       "      <td>0.752558</td>\n",
       "      <td>0.422099</td>\n",
       "    </tr>\n",
       "  </tbody>\n",
       "</table>\n",
       "</div>"
      ],
      "text/plain": [
       "           SVM Standard_OS_Train  SVM Standard_OS_Test  SVM MinMax_OS_Train  \\\n",
       "Accuracy                0.938327              0.875622             0.920972   \n",
       "Recall                  0.982241              0.923077             0.973846   \n",
       "Precision               0.902939              0.539326             0.880713   \n",
       "F1 Score                0.940922              0.680851             0.924941   \n",
       "\n",
       "           SVM MinMax_OS_Test  SVM Robust_OS_Train  SVM Robust_OS_Test  \\\n",
       "Accuracy             0.854063             0.936794            0.874516   \n",
       "Recall               0.915385             0.980949            0.923077   \n",
       "Precision            0.495833             0.901350            0.536913   \n",
       "F1 Score             0.643243             0.939467            0.678925   \n",
       "\n",
       "           Logreg Standard_OS_Train  Logreg Standard_OS_Test  \\\n",
       "Accuracy                   0.741847                 0.710337   \n",
       "Recall                     0.782531                 0.746154   \n",
       "Precision                  0.723649                 0.297546   \n",
       "F1 Score                   0.751939                 0.425439   \n",
       "\n",
       "           Logreg MinMax_OS_Train  Logreg MinMax_OS_Test  \\\n",
       "Accuracy                 0.743219               0.723051   \n",
       "Recall                   0.785438               0.707692   \n",
       "Precision                0.724282               0.302135   \n",
       "F1 Score                 0.753621               0.423475   \n",
       "\n",
       "           Logreg Robust_OS_Train  Logreg Robust_OS_Test  \n",
       "Accuracy                 0.742331               0.710890  \n",
       "Recall                   0.783662               0.734615  \n",
       "Precision                0.723829               0.296124  \n",
       "F1 Score                 0.752558               0.422099  "
      ]
     },
     "execution_count": 84,
     "metadata": {},
     "output_type": "execute_result"
    }
   ],
   "source": [
    "# SVM Robust OS\n",
    "distance_base_os_matrix"
   ]
  },
  {
   "cell_type": "code",
   "execution_count": 85,
   "metadata": {
    "colab": {
     "base_uri": "https://localhost:8080/",
     "height": 141
    },
    "id": "XNL_wRqW36dJ",
    "outputId": "c12f1350-a96c-4f13-b50a-7fd838981285"
   },
   "outputs": [
    {
     "data": {
      "text/html": [
       "<div>\n",
       "<style scoped>\n",
       "    .dataframe tbody tr th:only-of-type {\n",
       "        vertical-align: middle;\n",
       "    }\n",
       "\n",
       "    .dataframe tbody tr th {\n",
       "        vertical-align: top;\n",
       "    }\n",
       "\n",
       "    .dataframe thead th {\n",
       "        text-align: right;\n",
       "    }\n",
       "</style>\n",
       "<table border=\"1\" class=\"dataframe\">\n",
       "  <thead>\n",
       "    <tr style=\"text-align: right;\">\n",
       "      <th></th>\n",
       "      <th>SVM Standard_SM_Train</th>\n",
       "      <th>SVM Standard_SM_Test</th>\n",
       "      <th>SVM MinMax_SM_Train</th>\n",
       "      <th>SVM MinMax_SM_Test</th>\n",
       "      <th>SVM Robust_SM_Train</th>\n",
       "      <th>SVM Robust_SM_Test</th>\n",
       "      <th>Logreg Standard_SM_Train</th>\n",
       "      <th>Logreg Standard_SM_Test</th>\n",
       "      <th>Logreg MinMax_SM_Train</th>\n",
       "      <th>Logreg MinMax_SM_Test</th>\n",
       "      <th>Logreg Robust_SM_Train</th>\n",
       "      <th>Logreg Robust_SM_Test</th>\n",
       "    </tr>\n",
       "  </thead>\n",
       "  <tbody>\n",
       "    <tr>\n",
       "      <th>Accuracy</th>\n",
       "      <td>0.581127</td>\n",
       "      <td>0.856274</td>\n",
       "      <td>0.581127</td>\n",
       "      <td>0.856274</td>\n",
       "      <td>0.581127</td>\n",
       "      <td>0.856274</td>\n",
       "      <td>0.520342</td>\n",
       "      <td>0.577114</td>\n",
       "      <td>0.520342</td>\n",
       "      <td>0.181316</td>\n",
       "      <td>0.520342</td>\n",
       "      <td>0.519071</td>\n",
       "    </tr>\n",
       "    <tr>\n",
       "      <th>Recall</th>\n",
       "      <td>0.731999</td>\n",
       "      <td>0.000000</td>\n",
       "      <td>0.731999</td>\n",
       "      <td>0.000000</td>\n",
       "      <td>0.731999</td>\n",
       "      <td>0.000000</td>\n",
       "      <td>0.781886</td>\n",
       "      <td>0.419231</td>\n",
       "      <td>0.781886</td>\n",
       "      <td>0.988462</td>\n",
       "      <td>0.781886</td>\n",
       "      <td>0.519231</td>\n",
       "    </tr>\n",
       "    <tr>\n",
       "      <th>Precision</th>\n",
       "      <td>0.562322</td>\n",
       "      <td>0.000000</td>\n",
       "      <td>0.562322</td>\n",
       "      <td>0.000000</td>\n",
       "      <td>0.562322</td>\n",
       "      <td>0.000000</td>\n",
       "      <td>0.513356</td>\n",
       "      <td>0.150761</td>\n",
       "      <td>0.513356</td>\n",
       "      <td>0.148127</td>\n",
       "      <td>0.513356</td>\n",
       "      <td>0.153409</td>\n",
       "    </tr>\n",
       "    <tr>\n",
       "      <th>F1 Score</th>\n",
       "      <td>0.636038</td>\n",
       "      <td>0.000000</td>\n",
       "      <td>0.636038</td>\n",
       "      <td>0.000000</td>\n",
       "      <td>0.636038</td>\n",
       "      <td>0.000000</td>\n",
       "      <td>0.619785</td>\n",
       "      <td>0.221770</td>\n",
       "      <td>0.619785</td>\n",
       "      <td>0.257644</td>\n",
       "      <td>0.619785</td>\n",
       "      <td>0.236842</td>\n",
       "    </tr>\n",
       "  </tbody>\n",
       "</table>\n",
       "</div>"
      ],
      "text/plain": [
       "           SVM Standard_SM_Train  SVM Standard_SM_Test  SVM MinMax_SM_Train  \\\n",
       "Accuracy                0.581127              0.856274             0.581127   \n",
       "Recall                  0.731999              0.000000             0.731999   \n",
       "Precision               0.562322              0.000000             0.562322   \n",
       "F1 Score                0.636038              0.000000             0.636038   \n",
       "\n",
       "           SVM MinMax_SM_Test  SVM Robust_SM_Train  SVM Robust_SM_Test  \\\n",
       "Accuracy             0.856274             0.581127            0.856274   \n",
       "Recall               0.000000             0.731999            0.000000   \n",
       "Precision            0.000000             0.562322            0.000000   \n",
       "F1 Score             0.000000             0.636038            0.000000   \n",
       "\n",
       "           Logreg Standard_SM_Train  Logreg Standard_SM_Test  \\\n",
       "Accuracy                   0.520342                 0.577114   \n",
       "Recall                     0.781886                 0.419231   \n",
       "Precision                  0.513356                 0.150761   \n",
       "F1 Score                   0.619785                 0.221770   \n",
       "\n",
       "           Logreg MinMax_SM_Train  Logreg MinMax_SM_Test  \\\n",
       "Accuracy                 0.520342               0.181316   \n",
       "Recall                   0.781886               0.988462   \n",
       "Precision                0.513356               0.148127   \n",
       "F1 Score                 0.619785               0.257644   \n",
       "\n",
       "           Logreg Robust_SM_Train  Logreg Robust_SM_Test  \n",
       "Accuracy                 0.520342               0.519071  \n",
       "Recall                   0.781886               0.519231  \n",
       "Precision                0.513356               0.153409  \n",
       "F1 Score                 0.619785               0.236842  "
      ]
     },
     "execution_count": 85,
     "metadata": {},
     "output_type": "execute_result"
    }
   ],
   "source": [
    "distance_base_sm_matrix"
   ]
  },
  {
   "cell_type": "markdown",
   "metadata": {
    "id": "VI1092yjKtNt"
   },
   "source": [
    "## Decision Tree"
   ]
  },
  {
   "cell_type": "markdown",
   "metadata": {
    "id": "L3ZeYf-gMS6A"
   },
   "source": [
    "### Random Over Sampling"
   ]
  },
  {
   "cell_type": "code",
   "execution_count": 86,
   "metadata": {
    "id": "53ZE2_HcK0U5"
   },
   "outputs": [],
   "source": [
    "decision_tree = DecisionTreeClassifier()\n",
    "\n",
    "decision_tree.fit(x_train_os, y_train_os)\n",
    "\n",
    "pred_train_os = decision_tree.predict(x_train_os)\n",
    "pred_test_os = decision_tree.predict(x_test)"
   ]
  },
  {
   "cell_type": "code",
   "execution_count": 87,
   "metadata": {
    "id": "wcBzmHgsMCvh"
   },
   "outputs": [],
   "source": [
    "dt_acc_base_train_os = accuracy_score(y_train_os, pred_train_os)\n",
    "dt_acc_base_test_os = accuracy_score(y_test, pred_test_os)\n",
    "\n",
    "dt_recall_base_train_os = recall_score(y_train_os, pred_train_os)\n",
    "dt_recall_base_test_os = recall_score(y_test, pred_test_os)\n",
    "\n",
    "dt_prec_base_train_os = precision_score(y_train_os, pred_train_os)\n",
    "dt_prec_base_test_os = precision_score(y_test, pred_test_os)\n",
    "\n",
    "dt_f1_base_train_os = f1_score(y_train_os, pred_train_os)\n",
    "dt_f1_base_test_os = f1_score(y_test, pred_test_os)"
   ]
  },
  {
   "cell_type": "code",
   "execution_count": 88,
   "metadata": {
    "colab": {
     "base_uri": "https://localhost:8080/",
     "height": 110
    },
    "id": "h1oxahW6MH9x",
    "outputId": "55b32918-7896-44c3-cde1-5a97c8398093"
   },
   "outputs": [
    {
     "data": {
      "text/html": [
       "<div>\n",
       "<style scoped>\n",
       "    .dataframe tbody tr th:only-of-type {\n",
       "        vertical-align: middle;\n",
       "    }\n",
       "\n",
       "    .dataframe tbody tr th {\n",
       "        vertical-align: top;\n",
       "    }\n",
       "\n",
       "    .dataframe thead th {\n",
       "        text-align: right;\n",
       "    }\n",
       "</style>\n",
       "<table border=\"1\" class=\"dataframe\">\n",
       "  <thead>\n",
       "    <tr style=\"text-align: right;\">\n",
       "      <th></th>\n",
       "      <th>Pred 1</th>\n",
       "      <th>Pred 0</th>\n",
       "    </tr>\n",
       "  </thead>\n",
       "  <tbody>\n",
       "    <tr>\n",
       "      <th>Akt 1</th>\n",
       "      <td>133</td>\n",
       "      <td>127</td>\n",
       "    </tr>\n",
       "    <tr>\n",
       "      <th>Akt 0</th>\n",
       "      <td>48</td>\n",
       "      <td>1501</td>\n",
       "    </tr>\n",
       "  </tbody>\n",
       "</table>\n",
       "</div>"
      ],
      "text/plain": [
       "       Pred 1  Pred 0\n",
       "Akt 1     133     127\n",
       "Akt 0      48    1501"
      ]
     },
     "execution_count": 88,
     "metadata": {},
     "output_type": "execute_result"
    }
   ],
   "source": [
    "cm_dt_base_os = confusion_matrix(y_test, pred_test_os, labels=[1, 0])\n",
    "\n",
    "cm_dt_base_os = pd.DataFrame(data=cm_dt_base_os, index=['Akt 1', 'Akt 0'], columns=['Pred 1', 'Pred 0'])\n",
    "cm_dt_base_os"
   ]
  },
  {
   "cell_type": "code",
   "execution_count": 89,
   "metadata": {},
   "outputs": [],
   "source": [
    "tp_dt_os = cm_dt_base_os['Pred 1'][0]\n",
    "tn_dt_os = cm_dt_base_os['Pred 0'][1]\n",
    "\n",
    "fp_dt_os = cm_dt_base_os['Pred 1'][1]\n",
    "fn_dt_os = cm_dt_base_os['Pred 0'][0]"
   ]
  },
  {
   "cell_type": "markdown",
   "metadata": {
    "id": "PTmULUgjeg-E"
   },
   "source": [
    "### Smote"
   ]
  },
  {
   "cell_type": "code",
   "execution_count": 90,
   "metadata": {
    "id": "3K0grtLUei-6"
   },
   "outputs": [],
   "source": [
    "decision_tree.fit(x_train_sm, y_train_sm)\n",
    "\n",
    "pred_train_sm = decision_tree.predict(x_train_sm)\n",
    "pred_test_sm = decision_tree.predict(x_test)"
   ]
  },
  {
   "cell_type": "code",
   "execution_count": 91,
   "metadata": {
    "id": "W1w28afRexFE"
   },
   "outputs": [],
   "source": [
    "dt_acc_base_train_sm = accuracy_score(y_train_sm, pred_train_sm)\n",
    "dt_acc_base_test_sm = accuracy_score(y_test, pred_test_sm)\n",
    "\n",
    "dt_recall_base_train_sm = recall_score(y_train_sm, pred_train_sm)\n",
    "dt_recall_base_test_sm = recall_score(y_test, pred_test_sm)\n",
    "\n",
    "dt_prec_base_train_sm = precision_score(y_train_sm, pred_train_sm)\n",
    "dt_prec_base_test_sm = precision_score(y_test, pred_test_sm)\n",
    "\n",
    "dt_f1_base_train_sm = f1_score(y_train_sm, pred_train_sm)\n",
    "dt_f1_base_test_sm = f1_score(y_test, pred_test_sm)"
   ]
  },
  {
   "cell_type": "code",
   "execution_count": 92,
   "metadata": {
    "colab": {
     "base_uri": "https://localhost:8080/",
     "height": 110
    },
    "id": "CCiO8imTe_20",
    "outputId": "071b8df1-13d0-4ca8-b92d-d80584c72d57"
   },
   "outputs": [
    {
     "data": {
      "text/html": [
       "<div>\n",
       "<style scoped>\n",
       "    .dataframe tbody tr th:only-of-type {\n",
       "        vertical-align: middle;\n",
       "    }\n",
       "\n",
       "    .dataframe tbody tr th {\n",
       "        vertical-align: top;\n",
       "    }\n",
       "\n",
       "    .dataframe thead th {\n",
       "        text-align: right;\n",
       "    }\n",
       "</style>\n",
       "<table border=\"1\" class=\"dataframe\">\n",
       "  <thead>\n",
       "    <tr style=\"text-align: right;\">\n",
       "      <th></th>\n",
       "      <th>Pred 1</th>\n",
       "      <th>Pred 0</th>\n",
       "    </tr>\n",
       "  </thead>\n",
       "  <tbody>\n",
       "    <tr>\n",
       "      <th>Akt 1</th>\n",
       "      <td>77</td>\n",
       "      <td>183</td>\n",
       "    </tr>\n",
       "    <tr>\n",
       "      <th>Akt 0</th>\n",
       "      <td>316</td>\n",
       "      <td>1233</td>\n",
       "    </tr>\n",
       "  </tbody>\n",
       "</table>\n",
       "</div>"
      ],
      "text/plain": [
       "       Pred 1  Pred 0\n",
       "Akt 1      77     183\n",
       "Akt 0     316    1233"
      ]
     },
     "execution_count": 92,
     "metadata": {},
     "output_type": "execute_result"
    }
   ],
   "source": [
    "cm_dt_base_sm = confusion_matrix(y_test, pred_test_sm, labels=[1, 0])\n",
    "\n",
    "cm_dt_base_sm = pd.DataFrame(data=cm_dt_base_sm, index=['Akt 1', 'Akt 0'], columns=['Pred 1', 'Pred 0'])\n",
    "cm_dt_base_sm"
   ]
  },
  {
   "cell_type": "code",
   "execution_count": 93,
   "metadata": {},
   "outputs": [],
   "source": [
    "tp_dt_sm = cm_dt_base_sm['Pred 1'][0]\n",
    "tn_dt_sm = cm_dt_base_sm['Pred 0'][1]\n",
    "\n",
    "fp_dt_sm = cm_dt_base_sm['Pred 1'][1]\n",
    "fn_dt_sm = cm_dt_base_sm['Pred 0'][0]"
   ]
  },
  {
   "cell_type": "markdown",
   "metadata": {
    "id": "k4gmSwwRFMZw"
   },
   "source": [
    "## Random Forest"
   ]
  },
  {
   "cell_type": "markdown",
   "metadata": {
    "id": "g5TX7jSNFXzz"
   },
   "source": [
    "### Random Over Sampling"
   ]
  },
  {
   "cell_type": "code",
   "execution_count": 94,
   "metadata": {
    "id": "edYkr7oHE4zX"
   },
   "outputs": [],
   "source": [
    "random_forest = RandomForestClassifier()\n",
    "\n",
    "random_forest.fit(x_train_os, y_train_os)\n",
    "\n",
    "pred_train_os = random_forest.predict(x_train_os)\n",
    "pred_test_os = random_forest.predict(x_test)"
   ]
  },
  {
   "cell_type": "code",
   "execution_count": 95,
   "metadata": {
    "id": "FzJB4zMKHHYB"
   },
   "outputs": [],
   "source": [
    "rf_acc_base_train_os = accuracy_score(y_train_os, pred_train_os)\n",
    "rf_acc_base_test_os = accuracy_score(y_test, pred_test_os)\n",
    "\n",
    "rf_recall_base_train_os = recall_score(y_train_os, pred_train_os)\n",
    "rf_recall_base_test_os = recall_score(y_test, pred_test_os)\n",
    "\n",
    "rf_prec_base_train_os = precision_score(y_train_os, pred_train_os)\n",
    "rf_prec_base_test_os = precision_score(y_test, pred_test_os)\n",
    "\n",
    "rf_f1_base_train_os = f1_score(y_train_os, pred_train_os)\n",
    "rf_f1_base_test_os = f1_score(y_test, pred_test_os)"
   ]
  },
  {
   "cell_type": "code",
   "execution_count": 96,
   "metadata": {
    "colab": {
     "base_uri": "https://localhost:8080/",
     "height": 110
    },
    "id": "SY90tjG3HRox",
    "outputId": "9812c647-5b9e-44a8-cb15-5cd65c586ac0"
   },
   "outputs": [
    {
     "data": {
      "text/html": [
       "<div>\n",
       "<style scoped>\n",
       "    .dataframe tbody tr th:only-of-type {\n",
       "        vertical-align: middle;\n",
       "    }\n",
       "\n",
       "    .dataframe tbody tr th {\n",
       "        vertical-align: top;\n",
       "    }\n",
       "\n",
       "    .dataframe thead th {\n",
       "        text-align: right;\n",
       "    }\n",
       "</style>\n",
       "<table border=\"1\" class=\"dataframe\">\n",
       "  <thead>\n",
       "    <tr style=\"text-align: right;\">\n",
       "      <th></th>\n",
       "      <th>Pred 1</th>\n",
       "      <th>Pred 0</th>\n",
       "    </tr>\n",
       "  </thead>\n",
       "  <tbody>\n",
       "    <tr>\n",
       "      <th>Akt 1</th>\n",
       "      <td>196</td>\n",
       "      <td>64</td>\n",
       "    </tr>\n",
       "    <tr>\n",
       "      <th>Akt 0</th>\n",
       "      <td>7</td>\n",
       "      <td>1542</td>\n",
       "    </tr>\n",
       "  </tbody>\n",
       "</table>\n",
       "</div>"
      ],
      "text/plain": [
       "       Pred 1  Pred 0\n",
       "Akt 1     196      64\n",
       "Akt 0       7    1542"
      ]
     },
     "execution_count": 96,
     "metadata": {},
     "output_type": "execute_result"
    }
   ],
   "source": [
    "cm_rf_base_os = confusion_matrix(y_test, pred_test_os, labels=[1, 0])\n",
    "\n",
    "cm_rf_base_os = pd.DataFrame(data=cm_rf_base_os, index=['Akt 1', 'Akt 0'], columns=['Pred 1', 'Pred 0'])\n",
    "cm_rf_base_os"
   ]
  },
  {
   "cell_type": "code",
   "execution_count": 97,
   "metadata": {},
   "outputs": [],
   "source": [
    "tp_rf_os = cm_rf_base_os['Pred 1'][0]\n",
    "tn_rf_os = cm_rf_base_os['Pred 0'][1]\n",
    "\n",
    "fp_rf_os = cm_rf_base_os['Pred 1'][1]\n",
    "fn_rf_os = cm_rf_base_os['Pred 0'][0]"
   ]
  },
  {
   "cell_type": "markdown",
   "metadata": {
    "id": "XosiHszUfUoL"
   },
   "source": [
    "### Smote"
   ]
  },
  {
   "cell_type": "code",
   "execution_count": 98,
   "metadata": {
    "id": "_1-d-TnifV0m"
   },
   "outputs": [],
   "source": [
    "random_forest.fit(x_train_sm, y_train_sm)\n",
    "\n",
    "pred_train_sm = random_forest.predict(x_train_sm)\n",
    "pred_test_sm = random_forest.predict(x_test)"
   ]
  },
  {
   "cell_type": "code",
   "execution_count": 99,
   "metadata": {
    "id": "oJcykPsrfcBV"
   },
   "outputs": [],
   "source": [
    "rf_acc_base_train_sm = accuracy_score(y_train_sm, pred_train_sm)\n",
    "rf_acc_base_test_sm = accuracy_score(y_test, pred_test_sm)\n",
    "\n",
    "rf_recall_base_train_sm = recall_score(y_train_sm, pred_train_sm)\n",
    "rf_recall_base_test_sm = recall_score(y_test, pred_test_sm)\n",
    "\n",
    "rf_prec_base_train_sm = precision_score(y_train_sm, pred_train_sm)\n",
    "rf_prec_base_test_sm = precision_score(y_test, pred_test_sm)\n",
    "\n",
    "rf_f1_base_train_sm = f1_score(y_train_sm, pred_train_sm)\n",
    "rf_f1_base_test_sm = f1_score(y_test, pred_test_sm)"
   ]
  },
  {
   "cell_type": "code",
   "execution_count": 100,
   "metadata": {
    "colab": {
     "base_uri": "https://localhost:8080/",
     "height": 110
    },
    "id": "bq5oVum-fueT",
    "outputId": "b740a1b1-5b5d-4b00-d43f-e8f3cc163e68"
   },
   "outputs": [
    {
     "data": {
      "text/html": [
       "<div>\n",
       "<style scoped>\n",
       "    .dataframe tbody tr th:only-of-type {\n",
       "        vertical-align: middle;\n",
       "    }\n",
       "\n",
       "    .dataframe tbody tr th {\n",
       "        vertical-align: top;\n",
       "    }\n",
       "\n",
       "    .dataframe thead th {\n",
       "        text-align: right;\n",
       "    }\n",
       "</style>\n",
       "<table border=\"1\" class=\"dataframe\">\n",
       "  <thead>\n",
       "    <tr style=\"text-align: right;\">\n",
       "      <th></th>\n",
       "      <th>Pred 1</th>\n",
       "      <th>Pred 0</th>\n",
       "    </tr>\n",
       "  </thead>\n",
       "  <tbody>\n",
       "    <tr>\n",
       "      <th>Akt 1</th>\n",
       "      <td>18</td>\n",
       "      <td>242</td>\n",
       "    </tr>\n",
       "    <tr>\n",
       "      <th>Akt 0</th>\n",
       "      <td>1</td>\n",
       "      <td>1548</td>\n",
       "    </tr>\n",
       "  </tbody>\n",
       "</table>\n",
       "</div>"
      ],
      "text/plain": [
       "       Pred 1  Pred 0\n",
       "Akt 1      18     242\n",
       "Akt 0       1    1548"
      ]
     },
     "execution_count": 100,
     "metadata": {},
     "output_type": "execute_result"
    }
   ],
   "source": [
    "cm_rf_base_sm = confusion_matrix(y_test, pred_test_sm, labels=[1, 0])\n",
    "\n",
    "cm_rf_base_sm = pd.DataFrame(data=cm_rf_base_sm, index=['Akt 1', 'Akt 0'], columns=['Pred 1', 'Pred 0'])\n",
    "cm_rf_base_sm"
   ]
  },
  {
   "cell_type": "code",
   "execution_count": 101,
   "metadata": {},
   "outputs": [],
   "source": [
    "tp_rf_sm = cm_rf_base_sm['Pred 1'][0]\n",
    "tn_rf_sm = cm_rf_base_sm['Pred 0'][1]\n",
    "\n",
    "fp_rf_sm = cm_rf_base_sm['Pred 1'][1]\n",
    "fn_rf_sm = cm_rf_base_sm['Pred 0'][0]"
   ]
  },
  {
   "cell_type": "markdown",
   "metadata": {
    "id": "XguosidogXFU"
   },
   "source": [
    "## Evaluation Matrix For DT, RF"
   ]
  },
  {
   "cell_type": "code",
   "execution_count": 102,
   "metadata": {
    "id": "PTvHNsTwgSa7"
   },
   "outputs": [],
   "source": [
    "base_os = {\n",
    "    \"DT_OS_Train\": [dt_acc_base_train_os, dt_recall_base_train_os, dt_prec_base_train_os, dt_f1_base_train_os],\n",
    "    \"DT_OS_Test\" : [dt_acc_base_test_os, dt_recall_base_test_os, dt_prec_base_test_os, dt_f1_base_test_os],\n",
    "    \n",
    "    \"RF_OS_Train\": [rf_acc_base_train_os, rf_recall_base_train_os, rf_prec_base_train_os, rf_f1_base_train_os],\n",
    "    \"RF_OS_Test\" : [rf_acc_base_test_os, rf_recall_base_test_os, rf_prec_base_test_os, rf_f1_base_test_os]\n",
    "    }\n",
    "base_os_matrix = pd.DataFrame(data = base_os, index = ['Accuracy', 'Recall', 'Precision', 'F1 Score'])\n",
    "\n",
    "\n",
    "base_sm = {\n",
    "    \"DT_SM_Train\": [dt_acc_base_train_sm, dt_recall_base_train_sm, dt_prec_base_train_sm, dt_f1_base_train_sm],\n",
    "    \"DT_SM_Test\" : [dt_acc_base_test_sm, dt_recall_base_test_sm, dt_prec_base_test_sm, dt_f1_base_test_sm],\n",
    "    \n",
    "    \"RF_SM_Train\": [rf_acc_base_train_sm, rf_recall_base_train_sm, rf_prec_base_train_sm, rf_f1_base_train_sm],\n",
    "    \"RF_SM_Test\" : [rf_acc_base_test_sm, rf_recall_base_test_sm, rf_prec_base_test_sm, rf_f1_base_test_sm]\n",
    "    }\n",
    "base_sm_matrix = pd.DataFrame(data = base_sm, index = ['Accuracy', 'Recall', 'Precision', 'F1 Score'])"
   ]
  },
  {
   "cell_type": "code",
   "execution_count": 103,
   "metadata": {},
   "outputs": [],
   "source": [
    "summary = {\n",
    "    \"Accuracy\" : [dt_acc_base_train_os, dt_acc_base_test_os, \n",
    "                  rf_acc_base_train_os, rf_acc_base_test_os,\n",
    "                  dt_acc_base_train_sm, dt_acc_base_test_sm,\n",
    "                  rf_acc_base_train_sm, rf_acc_base_test_sm],\n",
    "    \n",
    "    \"Precision\" : [dt_prec_base_train_os, dt_prec_base_test_os,\n",
    "                   rf_prec_base_train_os, rf_prec_base_test_os,\n",
    "                   dt_prec_base_train_sm, dt_prec_base_test_sm,\n",
    "                   rf_prec_base_train_sm, rf_prec_base_test_sm],\n",
    "    \n",
    "    \"Recall\": [dt_recall_base_train_os, dt_recall_base_test_os,\n",
    "               rf_recall_base_train_os, rf_recall_base_test_os, \n",
    "               dt_recall_base_train_sm, dt_recall_base_test_sm,\n",
    "               rf_recall_base_train_sm, rf_recall_base_test_sm],\n",
    "    \n",
    "    \"F1 Score\": [dt_f1_base_train_os, dt_f1_base_test_os, \n",
    "                 rf_f1_base_train_os, rf_f1_base_test_os,\n",
    "                 dt_f1_base_train_sm, dt_f1_base_test_sm, \n",
    "                 rf_f1_base_train_sm, rf_f1_base_test_sm]}\n",
    "    \n",
    "sum_matrix = pd.DataFrame(data = summary, index = ['Decision Tree Train OS', 'Decision Tree Test OS',\n",
    "                                                   'Random Forest Train OS', 'Random Forest Test OS',\n",
    "                                                   'Decision Tree Train SM', 'Decision Tree Test SM',\n",
    "                                                   'Random Forest Train SM', 'Random Forest Test SM'])"
   ]
  },
  {
   "cell_type": "code",
   "execution_count": 104,
   "metadata": {},
   "outputs": [
    {
     "data": {
      "text/html": [
       "<div>\n",
       "<style scoped>\n",
       "    .dataframe tbody tr th:only-of-type {\n",
       "        vertical-align: middle;\n",
       "    }\n",
       "\n",
       "    .dataframe tbody tr th {\n",
       "        vertical-align: top;\n",
       "    }\n",
       "\n",
       "    .dataframe thead th {\n",
       "        text-align: right;\n",
       "    }\n",
       "</style>\n",
       "<table border=\"1\" class=\"dataframe\">\n",
       "  <thead>\n",
       "    <tr style=\"text-align: right;\">\n",
       "      <th></th>\n",
       "      <th>Accuracy</th>\n",
       "      <th>Precision</th>\n",
       "      <th>Recall</th>\n",
       "      <th>F1 Score</th>\n",
       "    </tr>\n",
       "  </thead>\n",
       "  <tbody>\n",
       "    <tr>\n",
       "      <th>Decision Tree Train OS</th>\n",
       "      <td>1.000000</td>\n",
       "      <td>1.000000</td>\n",
       "      <td>1.000000</td>\n",
       "      <td>1.000000</td>\n",
       "    </tr>\n",
       "    <tr>\n",
       "      <th>Decision Tree Test OS</th>\n",
       "      <td>0.903261</td>\n",
       "      <td>0.734807</td>\n",
       "      <td>0.511538</td>\n",
       "      <td>0.603175</td>\n",
       "    </tr>\n",
       "    <tr>\n",
       "      <th>Random Forest Train OS</th>\n",
       "      <td>1.000000</td>\n",
       "      <td>1.000000</td>\n",
       "      <td>1.000000</td>\n",
       "      <td>1.000000</td>\n",
       "    </tr>\n",
       "    <tr>\n",
       "      <th>Random Forest Test OS</th>\n",
       "      <td>0.960752</td>\n",
       "      <td>0.965517</td>\n",
       "      <td>0.753846</td>\n",
       "      <td>0.846652</td>\n",
       "    </tr>\n",
       "    <tr>\n",
       "      <th>Decision Tree Train SM</th>\n",
       "      <td>1.000000</td>\n",
       "      <td>1.000000</td>\n",
       "      <td>1.000000</td>\n",
       "      <td>1.000000</td>\n",
       "    </tr>\n",
       "    <tr>\n",
       "      <th>Decision Tree Test SM</th>\n",
       "      <td>0.724157</td>\n",
       "      <td>0.195929</td>\n",
       "      <td>0.296154</td>\n",
       "      <td>0.235835</td>\n",
       "    </tr>\n",
       "    <tr>\n",
       "      <th>Random Forest Train SM</th>\n",
       "      <td>1.000000</td>\n",
       "      <td>1.000000</td>\n",
       "      <td>1.000000</td>\n",
       "      <td>1.000000</td>\n",
       "    </tr>\n",
       "    <tr>\n",
       "      <th>Random Forest Test SM</th>\n",
       "      <td>0.865672</td>\n",
       "      <td>0.947368</td>\n",
       "      <td>0.069231</td>\n",
       "      <td>0.129032</td>\n",
       "    </tr>\n",
       "  </tbody>\n",
       "</table>\n",
       "</div>"
      ],
      "text/plain": [
       "                        Accuracy  Precision    Recall  F1 Score\n",
       "Decision Tree Train OS  1.000000   1.000000  1.000000  1.000000\n",
       "Decision Tree Test OS   0.903261   0.734807  0.511538  0.603175\n",
       "Random Forest Train OS  1.000000   1.000000  1.000000  1.000000\n",
       "Random Forest Test OS   0.960752   0.965517  0.753846  0.846652\n",
       "Decision Tree Train SM  1.000000   1.000000  1.000000  1.000000\n",
       "Decision Tree Test SM   0.724157   0.195929  0.296154  0.235835\n",
       "Random Forest Train SM  1.000000   1.000000  1.000000  1.000000\n",
       "Random Forest Test SM   0.865672   0.947368  0.069231  0.129032"
      ]
     },
     "execution_count": 104,
     "metadata": {},
     "output_type": "execute_result"
    }
   ],
   "source": [
    "# sum_matrix.sort_values('F1 Score', ascending = False)\n",
    "sum_matrix"
   ]
  },
  {
   "cell_type": "code",
   "execution_count": 105,
   "metadata": {},
   "outputs": [
    {
     "data": {
      "text/html": [
       "<div>\n",
       "<style scoped>\n",
       "    .dataframe tbody tr th:only-of-type {\n",
       "        vertical-align: middle;\n",
       "    }\n",
       "\n",
       "    .dataframe tbody tr th {\n",
       "        vertical-align: top;\n",
       "    }\n",
       "\n",
       "    .dataframe thead th {\n",
       "        text-align: right;\n",
       "    }\n",
       "</style>\n",
       "<table border=\"1\" class=\"dataframe\">\n",
       "  <thead>\n",
       "    <tr style=\"text-align: right;\">\n",
       "      <th></th>\n",
       "      <th>DT_OS_Train</th>\n",
       "      <th>DT_OS_Test</th>\n",
       "      <th>RF_OS_Train</th>\n",
       "      <th>RF_OS_Test</th>\n",
       "    </tr>\n",
       "  </thead>\n",
       "  <tbody>\n",
       "    <tr>\n",
       "      <th>Accuracy</th>\n",
       "      <td>1.0</td>\n",
       "      <td>0.903261</td>\n",
       "      <td>1.0</td>\n",
       "      <td>0.960752</td>\n",
       "    </tr>\n",
       "    <tr>\n",
       "      <th>Recall</th>\n",
       "      <td>1.0</td>\n",
       "      <td>0.511538</td>\n",
       "      <td>1.0</td>\n",
       "      <td>0.753846</td>\n",
       "    </tr>\n",
       "    <tr>\n",
       "      <th>Precision</th>\n",
       "      <td>1.0</td>\n",
       "      <td>0.734807</td>\n",
       "      <td>1.0</td>\n",
       "      <td>0.965517</td>\n",
       "    </tr>\n",
       "    <tr>\n",
       "      <th>F1 Score</th>\n",
       "      <td>1.0</td>\n",
       "      <td>0.603175</td>\n",
       "      <td>1.0</td>\n",
       "      <td>0.846652</td>\n",
       "    </tr>\n",
       "  </tbody>\n",
       "</table>\n",
       "</div>"
      ],
      "text/plain": [
       "           DT_OS_Train  DT_OS_Test  RF_OS_Train  RF_OS_Test\n",
       "Accuracy           1.0    0.903261          1.0    0.960752\n",
       "Recall             1.0    0.511538          1.0    0.753846\n",
       "Precision          1.0    0.734807          1.0    0.965517\n",
       "F1 Score           1.0    0.603175          1.0    0.846652"
      ]
     },
     "execution_count": 105,
     "metadata": {},
     "output_type": "execute_result"
    }
   ],
   "source": [
    "# XGB with Random Over Sampling\n",
    "base_os_matrix"
   ]
  },
  {
   "cell_type": "code",
   "execution_count": 106,
   "metadata": {},
   "outputs": [
    {
     "data": {
      "text/html": [
       "<div>\n",
       "<style scoped>\n",
       "    .dataframe tbody tr th:only-of-type {\n",
       "        vertical-align: middle;\n",
       "    }\n",
       "\n",
       "    .dataframe tbody tr th {\n",
       "        vertical-align: top;\n",
       "    }\n",
       "\n",
       "    .dataframe thead th {\n",
       "        text-align: right;\n",
       "    }\n",
       "</style>\n",
       "<table border=\"1\" class=\"dataframe\">\n",
       "  <thead>\n",
       "    <tr style=\"text-align: right;\">\n",
       "      <th></th>\n",
       "      <th>DT_SM_Train</th>\n",
       "      <th>DT_SM_Test</th>\n",
       "      <th>RF_SM_Train</th>\n",
       "      <th>RF_SM_Test</th>\n",
       "    </tr>\n",
       "  </thead>\n",
       "  <tbody>\n",
       "    <tr>\n",
       "      <th>Accuracy</th>\n",
       "      <td>1.0</td>\n",
       "      <td>0.724157</td>\n",
       "      <td>1.0</td>\n",
       "      <td>0.865672</td>\n",
       "    </tr>\n",
       "    <tr>\n",
       "      <th>Recall</th>\n",
       "      <td>1.0</td>\n",
       "      <td>0.296154</td>\n",
       "      <td>1.0</td>\n",
       "      <td>0.069231</td>\n",
       "    </tr>\n",
       "    <tr>\n",
       "      <th>Precision</th>\n",
       "      <td>1.0</td>\n",
       "      <td>0.195929</td>\n",
       "      <td>1.0</td>\n",
       "      <td>0.947368</td>\n",
       "    </tr>\n",
       "    <tr>\n",
       "      <th>F1 Score</th>\n",
       "      <td>1.0</td>\n",
       "      <td>0.235835</td>\n",
       "      <td>1.0</td>\n",
       "      <td>0.129032</td>\n",
       "    </tr>\n",
       "  </tbody>\n",
       "</table>\n",
       "</div>"
      ],
      "text/plain": [
       "           DT_SM_Train  DT_SM_Test  RF_SM_Train  RF_SM_Test\n",
       "Accuracy           1.0    0.724157          1.0    0.865672\n",
       "Recall             1.0    0.296154          1.0    0.069231\n",
       "Precision          1.0    0.195929          1.0    0.947368\n",
       "F1 Score           1.0    0.235835          1.0    0.129032"
      ]
     },
     "execution_count": 106,
     "metadata": {},
     "output_type": "execute_result"
    }
   ],
   "source": [
    "base_sm_matrix"
   ]
  },
  {
   "cell_type": "code",
   "execution_count": 107,
   "metadata": {},
   "outputs": [],
   "source": [
    "cm = {\n",
    "    \"True Positive\" : [tp_svm_os, tp_svm_os_std, tp_svm_os_mm, tp_svm_os_rb, \n",
    "                       tp_svm_sm, tp_svm_sm_std, tp_svm_sm_mm, tp_svm_sm_rb,\n",
    "                       tp_logreg_os, tp_logreg_os_std, tp_logreg_os_mm, tp_logreg_os_rb, \n",
    "                       tp_logreg_sm, tp_logreg_sm_std, tp_logreg_sm_mm, tp_logreg_sm_rb,\n",
    "                       tp_dt_os, tp_dt_sm, tp_rf_os, tp_rf_sm],\n",
    "    \n",
    "    \"True Negative\" : [tn_svm_os, tn_svm_os_std, tn_svm_os_mm, tn_svm_os_rb, \n",
    "                       tn_svm_sm, tn_svm_sm_std, tn_svm_sm_mm, tn_svm_sm_rb,\n",
    "                       tn_logreg_os, tn_logreg_os_std, tn_logreg_os_mm, tn_logreg_os_rb, \n",
    "                       tn_logreg_sm, tn_logreg_sm_std, tn_logreg_sm_mm, tn_logreg_sm_rb,\n",
    "                       tn_dt_os, tn_dt_sm, tn_rf_os, tn_rf_sm],\n",
    "    \n",
    "    \"False Positive\": [fp_svm_os, fp_svm_os_std, fp_svm_os_mm, fp_svm_os_rb, \n",
    "                       fp_svm_sm, fp_svm_sm_std, fp_svm_sm_mm, fp_svm_sm_rb,\n",
    "                       fp_logreg_os, fp_logreg_os_std, fp_logreg_os_mm, fp_logreg_os_rb, \n",
    "                       fp_logreg_sm, fp_logreg_sm_std, fp_logreg_sm_mm, fp_logreg_sm_rb,\n",
    "                       fp_dt_os, fp_dt_sm, fp_rf_os, fp_rf_sm],\n",
    "    \n",
    "    \"False Negative\": [fn_svm_os, fn_svm_os_std, fn_svm_os_mm, fn_svm_os_rb, \n",
    "                       fn_svm_sm, fn_svm_sm_std, fn_svm_sm_mm, fn_svm_sm_rb,\n",
    "                       fn_logreg_os, fn_logreg_os_std, fn_logreg_os_mm, fn_logreg_os_rb, \n",
    "                       fn_logreg_sm, fn_logreg_sm_std, fn_logreg_sm_mm, fn_logreg_sm_rb,\n",
    "                       fn_dt_os, fn_dt_sm, fn_rf_os, fn_rf_sm]\n",
    "}\n",
    "    \n",
    "cm_matrix = pd.DataFrame(data = cm, index = ['SVM OS', 'SVM OS Standard', 'SVM OS MinMax', 'SVM OS Robust',\n",
    "                                             'SVM SM', 'SVM SM Standard', 'SVM SM MinMax', 'SVM SM Robust',\n",
    "                                             'LogReg OS', 'Logreg OS Standard', 'Logreg OS MinMax', 'Logreg OS Robust',\n",
    "                                             'LogReg SM', 'Logreg SM Standard', 'Logreg SM MinMax', 'Logreg SM Robust',\n",
    "                                             'Decision Tree OS', 'Decision Tree SM', \n",
    "                                             'Random Forest OS', 'Random Forest SM'])"
   ]
  },
  {
   "cell_type": "code",
   "execution_count": 108,
   "metadata": {},
   "outputs": [
    {
     "data": {
      "text/html": [
       "<div>\n",
       "<style scoped>\n",
       "    .dataframe tbody tr th:only-of-type {\n",
       "        vertical-align: middle;\n",
       "    }\n",
       "\n",
       "    .dataframe tbody tr th {\n",
       "        vertical-align: top;\n",
       "    }\n",
       "\n",
       "    .dataframe thead th {\n",
       "        text-align: right;\n",
       "    }\n",
       "</style>\n",
       "<table border=\"1\" class=\"dataframe\">\n",
       "  <thead>\n",
       "    <tr style=\"text-align: right;\">\n",
       "      <th></th>\n",
       "      <th>True Positive</th>\n",
       "      <th>True Negative</th>\n",
       "      <th>False Positive</th>\n",
       "      <th>False Negative</th>\n",
       "    </tr>\n",
       "  </thead>\n",
       "  <tbody>\n",
       "    <tr>\n",
       "      <th>Logreg SM MinMax</th>\n",
       "      <td>257</td>\n",
       "      <td>71</td>\n",
       "      <td>1478</td>\n",
       "      <td>3</td>\n",
       "    </tr>\n",
       "    <tr>\n",
       "      <th>SVM OS Standard</th>\n",
       "      <td>240</td>\n",
       "      <td>1344</td>\n",
       "      <td>205</td>\n",
       "      <td>20</td>\n",
       "    </tr>\n",
       "    <tr>\n",
       "      <th>SVM OS Robust</th>\n",
       "      <td>240</td>\n",
       "      <td>1342</td>\n",
       "      <td>207</td>\n",
       "      <td>20</td>\n",
       "    </tr>\n",
       "    <tr>\n",
       "      <th>SVM OS MinMax</th>\n",
       "      <td>238</td>\n",
       "      <td>1307</td>\n",
       "      <td>242</td>\n",
       "      <td>22</td>\n",
       "    </tr>\n",
       "    <tr>\n",
       "      <th>Random Forest OS</th>\n",
       "      <td>196</td>\n",
       "      <td>1542</td>\n",
       "      <td>7</td>\n",
       "      <td>64</td>\n",
       "    </tr>\n",
       "    <tr>\n",
       "      <th>Logreg OS Standard</th>\n",
       "      <td>194</td>\n",
       "      <td>1091</td>\n",
       "      <td>458</td>\n",
       "      <td>66</td>\n",
       "    </tr>\n",
       "    <tr>\n",
       "      <th>Logreg OS Robust</th>\n",
       "      <td>191</td>\n",
       "      <td>1095</td>\n",
       "      <td>454</td>\n",
       "      <td>69</td>\n",
       "    </tr>\n",
       "    <tr>\n",
       "      <th>LogReg OS</th>\n",
       "      <td>191</td>\n",
       "      <td>1095</td>\n",
       "      <td>454</td>\n",
       "      <td>69</td>\n",
       "    </tr>\n",
       "    <tr>\n",
       "      <th>Logreg OS MinMax</th>\n",
       "      <td>184</td>\n",
       "      <td>1124</td>\n",
       "      <td>425</td>\n",
       "      <td>76</td>\n",
       "    </tr>\n",
       "    <tr>\n",
       "      <th>SVM OS</th>\n",
       "      <td>183</td>\n",
       "      <td>658</td>\n",
       "      <td>891</td>\n",
       "      <td>77</td>\n",
       "    </tr>\n",
       "    <tr>\n",
       "      <th>SVM SM</th>\n",
       "      <td>182</td>\n",
       "      <td>668</td>\n",
       "      <td>881</td>\n",
       "      <td>78</td>\n",
       "    </tr>\n",
       "    <tr>\n",
       "      <th>LogReg SM</th>\n",
       "      <td>135</td>\n",
       "      <td>804</td>\n",
       "      <td>745</td>\n",
       "      <td>125</td>\n",
       "    </tr>\n",
       "    <tr>\n",
       "      <th>Logreg SM Robust</th>\n",
       "      <td>135</td>\n",
       "      <td>804</td>\n",
       "      <td>745</td>\n",
       "      <td>125</td>\n",
       "    </tr>\n",
       "    <tr>\n",
       "      <th>Decision Tree OS</th>\n",
       "      <td>133</td>\n",
       "      <td>1501</td>\n",
       "      <td>48</td>\n",
       "      <td>127</td>\n",
       "    </tr>\n",
       "    <tr>\n",
       "      <th>Logreg SM Standard</th>\n",
       "      <td>109</td>\n",
       "      <td>935</td>\n",
       "      <td>614</td>\n",
       "      <td>151</td>\n",
       "    </tr>\n",
       "    <tr>\n",
       "      <th>Decision Tree SM</th>\n",
       "      <td>77</td>\n",
       "      <td>1233</td>\n",
       "      <td>316</td>\n",
       "      <td>183</td>\n",
       "    </tr>\n",
       "    <tr>\n",
       "      <th>Random Forest SM</th>\n",
       "      <td>18</td>\n",
       "      <td>1548</td>\n",
       "      <td>1</td>\n",
       "      <td>242</td>\n",
       "    </tr>\n",
       "    <tr>\n",
       "      <th>SVM SM MinMax</th>\n",
       "      <td>0</td>\n",
       "      <td>1549</td>\n",
       "      <td>0</td>\n",
       "      <td>260</td>\n",
       "    </tr>\n",
       "    <tr>\n",
       "      <th>SVM SM Standard</th>\n",
       "      <td>0</td>\n",
       "      <td>1549</td>\n",
       "      <td>0</td>\n",
       "      <td>260</td>\n",
       "    </tr>\n",
       "    <tr>\n",
       "      <th>SVM SM Robust</th>\n",
       "      <td>0</td>\n",
       "      <td>1549</td>\n",
       "      <td>0</td>\n",
       "      <td>260</td>\n",
       "    </tr>\n",
       "  </tbody>\n",
       "</table>\n",
       "</div>"
      ],
      "text/plain": [
       "                    True Positive  True Negative  False Positive  \\\n",
       "Logreg SM MinMax              257             71            1478   \n",
       "SVM OS Standard               240           1344             205   \n",
       "SVM OS Robust                 240           1342             207   \n",
       "SVM OS MinMax                 238           1307             242   \n",
       "Random Forest OS              196           1542               7   \n",
       "Logreg OS Standard            194           1091             458   \n",
       "Logreg OS Robust              191           1095             454   \n",
       "LogReg OS                     191           1095             454   \n",
       "Logreg OS MinMax              184           1124             425   \n",
       "SVM OS                        183            658             891   \n",
       "SVM SM                        182            668             881   \n",
       "LogReg SM                     135            804             745   \n",
       "Logreg SM Robust              135            804             745   \n",
       "Decision Tree OS              133           1501              48   \n",
       "Logreg SM Standard            109            935             614   \n",
       "Decision Tree SM               77           1233             316   \n",
       "Random Forest SM               18           1548               1   \n",
       "SVM SM MinMax                   0           1549               0   \n",
       "SVM SM Standard                 0           1549               0   \n",
       "SVM SM Robust                   0           1549               0   \n",
       "\n",
       "                    False Negative  \n",
       "Logreg SM MinMax                 3  \n",
       "SVM OS Standard                 20  \n",
       "SVM OS Robust                   20  \n",
       "SVM OS MinMax                   22  \n",
       "Random Forest OS                64  \n",
       "Logreg OS Standard              66  \n",
       "Logreg OS Robust                69  \n",
       "LogReg OS                       69  \n",
       "Logreg OS MinMax                76  \n",
       "SVM OS                          77  \n",
       "SVM SM                          78  \n",
       "LogReg SM                      125  \n",
       "Logreg SM Robust               125  \n",
       "Decision Tree OS               127  \n",
       "Logreg SM Standard             151  \n",
       "Decision Tree SM               183  \n",
       "Random Forest SM               242  \n",
       "SVM SM MinMax                  260  \n",
       "SVM SM Standard                260  \n",
       "SVM SM Robust                  260  "
      ]
     },
     "execution_count": 108,
     "metadata": {},
     "output_type": "execute_result"
    }
   ],
   "source": [
    "cm_matrix.sort_values('False Negative')"
   ]
  }
 ],
 "metadata": {
  "accelerator": "GPU",
  "colab": {
   "collapsed_sections": [],
   "name": "machine learning",
   "provenance": []
  },
  "kernelspec": {
   "display_name": "Python 3 (ipykernel)",
   "language": "python",
   "name": "python3"
  },
  "language_info": {
   "codemirror_mode": {
    "name": "ipython",
    "version": 3
   },
   "file_extension": ".py",
   "mimetype": "text/x-python",
   "name": "python",
   "nbconvert_exporter": "python",
   "pygments_lexer": "ipython3",
   "version": "3.8.17"
  }
 },
 "nbformat": 4,
 "nbformat_minor": 1
}
